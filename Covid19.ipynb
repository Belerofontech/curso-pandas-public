{
 "cells": [
  {
   "cell_type": "markdown",
   "metadata": {},
   "source": [
    "# Analisis de datos del COVID-19"
   ]
  },
  {
   "cell_type": "markdown",
   "metadata": {},
   "source": [
    "Objetivos del análisis:\n",
    "* Automatizar descarga y tratamiento de datos.\n",
    "* Generar salidas reutilizables.\n",
    "* Generar gráficos explicativos, a poder ser múltiples.\n",
    "* Separar los datos en dos tablas y hacer el tratamiento eficiente completo."
   ]
  },
  {
   "cell_type": "code",
   "execution_count": 2,
   "metadata": {},
   "outputs": [],
   "source": [
    "import numpy as np\n",
    "import pandas as pd\n",
    "import matplotlib.pyplot as plt\n",
    "import seaborn as sns"
   ]
  },
  {
   "cell_type": "code",
   "execution_count": 3,
   "metadata": {},
   "outputs": [],
   "source": [
    "dfbase = pd.read_csv('https://opendata.ecdc.europa.eu/covid19/casedistribution/csv')"
   ]
  },
  {
   "cell_type": "code",
   "execution_count": 4,
   "metadata": {},
   "outputs": [],
   "source": [
    "covid=dfbase"
   ]
  },
  {
   "cell_type": "code",
   "execution_count": 9,
   "metadata": {},
   "outputs": [
    {
     "data": {
      "text/plain": [
       "Index(['dateRep', 'day', 'month', 'year', 'cases', 'deaths',\n",
       "       'countriesAndTerritories', 'geoId', 'countryterritoryCode',\n",
       "       'popData2019', 'continentExp',\n",
       "       'Cumulative_number_for_14_days_of_COVID-19_cases_per_100000'],\n",
       "      dtype='object')"
      ]
     },
     "execution_count": 9,
     "metadata": {},
     "output_type": "execute_result"
    }
   ],
   "source": [
    "covid.columns"
   ]
  },
  {
   "cell_type": "code",
   "execution_count": 5,
   "metadata": {},
   "outputs": [
    {
     "data": {
      "text/plain": [
       "(60622, 12)"
      ]
     },
     "execution_count": 5,
     "metadata": {},
     "output_type": "execute_result"
    }
   ],
   "source": [
    "df.shape"
   ]
  },
  {
   "cell_type": "code",
   "execution_count": 9,
   "metadata": {},
   "outputs": [],
   "source": [
    "df['dateRep'] = pd.to_datetime(df['dateRep'], format='%d/%m/%Y', errors='ignore')"
   ]
  },
  {
   "cell_type": "code",
   "execution_count": 10,
   "metadata": {},
   "outputs": [],
   "source": [
    "df = df.drop(['day','month','year','geoId', 'countryterritoryCode', \n",
    "              'Cumulative_number_for_14_days_of_COVID-19_cases_per_100000'], axis = 1)"
   ]
  },
  {
   "cell_type": "code",
   "execution_count": 11,
   "metadata": {},
   "outputs": [],
   "source": [
    "renombrados={'dateRep':'Fecha', 'cases':'Casos', 'deaths':'Muertes',\n",
    "                   'countriesAndTerritories':'País','continentExp':'Continente','popData2019':'Población'}\n",
    "df.rename(columns=renombrados, inplace=True)"
   ]
  },
  {
   "cell_type": "code",
   "execution_count": 184,
   "metadata": {},
   "outputs": [],
   "source": [
    "df = df.set_index(['País', 'Fecha']).sort_index()"
   ]
  },
  {
   "cell_type": "code",
   "execution_count": 185,
   "metadata": {},
   "outputs": [],
   "source": [
    "df['Acumulado Casos'] = df.groupby(['País'])['Casos'].cumsum()"
   ]
  },
  {
   "cell_type": "markdown",
   "metadata": {},
   "source": [
    "Faltan las medias moviles"
   ]
  },
  {
   "cell_type": "code",
   "execution_count": 186,
   "metadata": {},
   "outputs": [],
   "source": [
    "df['Acumulado Muertes'] = df.groupby(['País'])['Muertes'].cumsum()"
   ]
  },
  {
   "cell_type": "code",
   "execution_count": 187,
   "metadata": {},
   "outputs": [],
   "source": [
    "df['Ratio'] = (df['Acumulado Muertes'] / df['Acumulado Casos']).fillna(0)"
   ]
  },
  {
   "cell_type": "code",
   "execution_count": 188,
   "metadata": {},
   "outputs": [],
   "source": [
    "df.reset_index(inplace=True)"
   ]
  },
  {
   "cell_type": "code",
   "execution_count": 190,
   "metadata": {},
   "outputs": [],
   "source": [
    "df=df[['Continente', 'País', 'Fecha', 'Casos','Acumulado Casos', 'Muertes', 'Acumulado Muertes','Ratio', 'Población']]"
   ]
  },
  {
   "cell_type": "code",
   "execution_count": 6,
   "metadata": {},
   "outputs": [
    {
     "name": "stdout",
     "output_type": "stream",
     "text": [
      "<class 'pandas.core.frame.DataFrame'>\n",
      "RangeIndex: 60622 entries, 0 to 60621\n",
      "Data columns (total 12 columns):\n",
      " #   Column                                                      Non-Null Count  Dtype  \n",
      "---  ------                                                      --------------  -----  \n",
      " 0   dateRep                                                     60622 non-null  object \n",
      " 1   day                                                         60622 non-null  int64  \n",
      " 2   month                                                       60622 non-null  int64  \n",
      " 3   year                                                        60622 non-null  int64  \n",
      " 4   cases                                                       60622 non-null  int64  \n",
      " 5   deaths                                                      60622 non-null  int64  \n",
      " 6   countriesAndTerritories                                     60622 non-null  object \n",
      " 7   geoId                                                       60353 non-null  object \n",
      " 8   countryterritoryCode                                        60505 non-null  object \n",
      " 9   popData2019                                                 60505 non-null  float64\n",
      " 10  continentExp                                                60622 non-null  object \n",
      " 11  Cumulative_number_for_14_days_of_COVID-19_cases_per_100000  57749 non-null  float64\n",
      "dtypes: float64(2), int64(5), object(5)\n",
      "memory usage: 5.6+ MB\n"
     ]
    }
   ],
   "source": [
    "df.info()"
   ]
  },
  {
   "cell_type": "code",
   "execution_count": 192,
   "metadata": {},
   "outputs": [
    {
     "data": {
      "text/plain": [
       "<AxesSubplot:xlabel='count', ylabel='Continente'>"
      ]
     },
     "execution_count": 192,
     "metadata": {},
     "output_type": "execute_result"
    },
    {
     "data": {
      "image/png": "[encoded data removed]",
      "text/plain": [
       "<Figure size 432x288 with 1 Axes>"
      ]
     },
     "metadata": {
      "needs_background": "light"
     },
     "output_type": "display_data"
    }
   ],
   "source": [
    "sns.countplot(y='Continente', data=df)"
   ]
  },
  {
   "cell_type": "code",
   "execution_count": 176,
   "metadata": {},
   "outputs": [
    {
     "data": {
      "text/plain": [
       "59879877"
      ]
     },
     "execution_count": 176,
     "metadata": {},
     "output_type": "execute_result"
    }
   ],
   "source": [
    "df.Casos.sum()"
   ]
  },
  {
   "cell_type": "code",
   "execution_count": 12,
   "metadata": {},
   "outputs": [
    {
     "data": {
      "text/plain": [
       "<AxesSubplot:xlabel='Continente'>"
      ]
     },
     "execution_count": 12,
     "metadata": {},
     "output_type": "execute_result"
    },
    {
     "data": {
      "image/png": "[encoded data removed]",
      "text/plain": [
       "<Figure size 432x288 with 1 Axes>"
      ]
     },
     "metadata": {
      "needs_background": "light"
     },
     "output_type": "display_data"
    }
   ],
   "source": [
    "agrupadocontinente=df.groupby(['Continente'])['Casos'].sum().reset_index().sort_values('Casos', ascending=False)\n",
    "agrupadocontinente.plot.bar(x='Continente', y='Casos')"
   ]
  },
  {
   "cell_type": "code",
   "execution_count": 15,
   "metadata": {},
   "outputs": [
    {
     "data": {
      "text/html": [
       "<div>\n",
       "<style scoped>\n",
       "    .dataframe tbody tr th:only-of-type {\n",
       "        vertical-align: middle;\n",
       "    }\n",
       "\n",
       "    .dataframe tbody tr th {\n",
       "        vertical-align: top;\n",
       "    }\n",
       "\n",
       "    .dataframe thead th {\n",
       "        text-align: right;\n",
       "    }\n",
       "</style>\n",
       "<table border=\"1\" class=\"dataframe\">\n",
       "  <thead>\n",
       "    <tr style=\"text-align: right;\">\n",
       "      <th></th>\n",
       "      <th>País</th>\n",
       "      <th>Población</th>\n",
       "      <th>Casos</th>\n",
       "    </tr>\n",
       "  </thead>\n",
       "  <tbody>\n",
       "    <tr>\n",
       "      <th>0</th>\n",
       "      <td>Afghanistan</td>\n",
       "      <td>38041757.0</td>\n",
       "      <td>46116</td>\n",
       "    </tr>\n",
       "    <tr>\n",
       "      <th>1</th>\n",
       "      <td>Albania</td>\n",
       "      <td>2862427.0</td>\n",
       "      <td>38182</td>\n",
       "    </tr>\n",
       "    <tr>\n",
       "      <th>2</th>\n",
       "      <td>Algeria</td>\n",
       "      <td>43053054.0</td>\n",
       "      <td>83189</td>\n",
       "    </tr>\n",
       "    <tr>\n",
       "      <th>3</th>\n",
       "      <td>Andorra</td>\n",
       "      <td>76177.0</td>\n",
       "      <td>6745</td>\n",
       "    </tr>\n",
       "    <tr>\n",
       "      <th>4</th>\n",
       "      <td>Angola</td>\n",
       "      <td>31825299.0</td>\n",
       "      <td>15139</td>\n",
       "    </tr>\n",
       "    <tr>\n",
       "      <th>...</th>\n",
       "      <td>...</td>\n",
       "      <td>...</td>\n",
       "      <td>...</td>\n",
       "    </tr>\n",
       "    <tr>\n",
       "      <th>207</th>\n",
       "      <td>Vietnam</td>\n",
       "      <td>96462108.0</td>\n",
       "      <td>1346</td>\n",
       "    </tr>\n",
       "    <tr>\n",
       "      <th>208</th>\n",
       "      <td>Western_Sahara</td>\n",
       "      <td>582458.0</td>\n",
       "      <td>766</td>\n",
       "    </tr>\n",
       "    <tr>\n",
       "      <th>209</th>\n",
       "      <td>Yemen</td>\n",
       "      <td>29161922.0</td>\n",
       "      <td>2191</td>\n",
       "    </tr>\n",
       "    <tr>\n",
       "      <th>210</th>\n",
       "      <td>Zambia</td>\n",
       "      <td>17861034.0</td>\n",
       "      <td>17647</td>\n",
       "    </tr>\n",
       "    <tr>\n",
       "      <th>211</th>\n",
       "      <td>Zimbabwe</td>\n",
       "      <td>14645473.0</td>\n",
       "      <td>10034</td>\n",
       "    </tr>\n",
       "  </tbody>\n",
       "</table>\n",
       "<p>212 rows × 3 columns</p>\n",
       "</div>"
      ],
      "text/plain": [
       "               País   Población  Casos\n",
       "0       Afghanistan  38041757.0  46116\n",
       "1           Albania   2862427.0  38182\n",
       "2           Algeria  43053054.0  83189\n",
       "3           Andorra     76177.0   6745\n",
       "4            Angola  31825299.0  15139\n",
       "..              ...         ...    ...\n",
       "207         Vietnam  96462108.0   1346\n",
       "208  Western_Sahara    582458.0    766\n",
       "209           Yemen  29161922.0   2191\n",
       "210          Zambia  17861034.0  17647\n",
       "211        Zimbabwe  14645473.0  10034\n",
       "\n",
       "[212 rows x 3 columns]"
      ]
     },
     "execution_count": 15,
     "metadata": {},
     "output_type": "execute_result"
    }
   ],
   "source": [
    "agrupadopais=df.groupby(['País', 'Población'])['Casos'].sum().reset_index()\n",
    "# agrupadopais.head()[df['País'] == 'Spain']\n",
    "agrupadopais"
   ]
  },
  {
   "cell_type": "code",
   "execution_count": 14,
   "metadata": {},
   "outputs": [
    {
     "data": {
      "text/plain": [
       "<AxesSubplot:xlabel='Población', ylabel='Casos'>"
      ]
     },
     "execution_count": 14,
     "metadata": {},
     "output_type": "execute_result"
    },
    {
     "data": {
      "image/png": "[encoded data removed]",
      "text/plain": [
       "<Figure size 432x288 with 1 Axes>"
      ]
     },
     "metadata": {
      "needs_background": "light"
     },
     "output_type": "display_data"
    }
   ],
   "source": [
    "sns.regplot(x='Población', y ='Casos', data=agrupadopais)"
   ]
  },
  {
   "cell_type": "markdown",
   "metadata": {},
   "source": [
    "Implementar el encadenado de metodos."
   ]
  },
  {
   "cell_type": "code",
   "execution_count": null,
   "metadata": {},
   "outputs": [],
   "source": [
    "df2 = pd.read_csv('https://opendata.ecdc.europa.eu/covid19/casedistribution/csv')\n",
    "df2['dateRep'] = pd.to_datetime(df2['dateRep'], format='%d/%m/%Y', errors='ignore')\n",
    "df2 = df2.drop(['day','month','year','geoId', 'countryterritoryCode', 'Cumulative_number_for_14_days_of_COVID-19_cases_per_100000'], axis = 1)\n",
    "df2 = df2.set_index(['countriesAndTerritories', 'dateRep']).sort_index()\n",
    "df2['cases acumulated'] = df2.groupby(['countriesAndTerritories'])['cases'].cumsum()\n",
    "df2['deaths acumulated'] = df2.groupby(['countriesAndTerritories'])['deaths'].cumsum()\n",
    "df2.index.names = ['País', 'Fecha']\n",
    "df2.columns = ['Casos','Muertes','Población', 'Continente', 'Acumulado Casos', 'Acumulado Muertes']\n",
    "df2.reset_index(inplace=True)b"
   ]
  },
  {
   "cell_type": "markdown",
   "metadata": {},
   "source": [
    "Separar en grupos y hacer un merge para fusionar los datos."
   ]
  },
  {
   "cell_type": "markdown",
   "metadata": {},
   "source": [
    "## Method Chaining\n",
    "\n"
   ]
  },
  {
   "cell_type": "code",
   "execution_count": 67,
   "metadata": {},
   "outputs": [],
   "source": [
    "salidacovid = (covid\n",
    "               .drop(['day', 'month', 'year', 'geoId', 'countryterritoryCode',\n",
    "                      'Cumulative_number_for_14_days_of_COVID-19_cases_per_100000'], axis=1)\n",
    "               .rename(columns={'dateRep': 'Fecha', 'cases': 'Casos',\n",
    "                                'deaths': 'Muertes', 'countriesAndTerritories': 'País',\n",
    "                                'popData2019': 'Población', 'continentExp': 'Continente'})\n",
    "               .assign(Fecha=lambda x: pd.to_datetime(x['Fecha'],  format='%d/%m/%Y'))\n",
    "               .sort_values(by=['País', 'Fecha'], ascending=[True, True])\n",
    "               .assign(AcumuladoCasos=lambda x: x.groupby('País')['Casos'].transform('cumsum'),\n",
    "                       AcumuladoCasos14=lambda x: 100000 * x.groupby('País')['Casos'].transform(\n",
    "                   lambda x: x.rolling(14).sum()) / x['Población'],\n",
    "                   AcumuladoMuertes=lambda x: x.groupby(\n",
    "                   'País')['Muertes'].transform('cumsum'),\n",
    "                   PorcentajeAcumuladoCasos=lambda x: x['AcumuladoCasos'] /\n",
    "                   x['Población'],\n",
    "                   PorcentajeAcumuladoMuertes=lambda x: x['AcumuladoMuertes'] / x['Población'])\n",
    "               .set_index(['País', 'Fecha'])\n",
    "               .sort_index()\n",
    "               )\n",
    "# paises = ['Spain']\n",
    "# salidacovid[salidacovid['País'] == 'Spain']['AcumuladoCasos14'].plot()\n",
    "# salidacovid[salidacovid['País'] == 'Germany']['AcumuladoCasos14'].plot()"
   ]
  },
  {
   "cell_type": "code",
   "execution_count": 68,
   "metadata": {},
   "outputs": [
    {
     "data": {
      "text/plain": [
       "<AxesSubplot:xlabel='Fecha'>"
      ]
     },
     "execution_count": 68,
     "metadata": {},
     "output_type": "execute_result"
    },
    {
     "data": {
      "image/png": "[encoded data removed]",
      "text/plain": [
       "<Figure size 432x288 with 1 Axes>"
      ]
     },
     "metadata": {
      "needs_background": "light"
     },
     "output_type": "display_data"
    }
   ],
   "source": [
    "salidacovid.loc[['Spain', 'Germany']]['AcumuladoCasos14'].unstack(level=0).plot()"
   ]
  }
 ],
 "metadata": {
  "kernelspec": {
   "display_name": "Python 3",
   "language": "python",
   "name": "python3"
  },
  "language_info": {
   "codemirror_mode": {
    "name": "ipython",
    "version": 3
   },
   "file_extension": ".py",
   "mimetype": "text/x-python",
   "name": "python",
   "nbconvert_exporter": "python",
   "pygments_lexer": "ipython3",
   "version": "3.8.5"
  },
  "toc": {
   "base_numbering": 1,
   "nav_menu": {},
   "number_sections": true,
   "sideBar": true,
   "skip_h1_title": true,
   "title_cell": "Índice",
   "title_sidebar": "Contents",
   "toc_cell": false,
   "toc_position": {},
   "toc_section_display": true,
   "toc_window_display": false
  }
 },
 "nbformat": 4,
 "nbformat_minor": 4
}
