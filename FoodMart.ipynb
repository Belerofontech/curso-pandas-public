{
 "cells": [
  {
   "cell_type": "markdown",
   "metadata": {},
   "source": [
    "#  Procesado FoodMart"
   ]
  },
  {
   "cell_type": "markdown",
   "metadata": {},
   "source": [
    "## Carga de datos"
   ]
  },
  {
   "cell_type": "code",
   "execution_count": 20,
   "metadata": {},
   "outputs": [],
   "source": [
    "import numpy as np\n",
    "import pandas as pd\n",
    "import matplotlib.pyplot as plt\n",
    "import seaborn as sns\n",
    "import sidetable\n",
    "from pathlib import Path"
   ]
  },
  {
   "cell_type": "code",
   "execution_count": 21,
   "metadata": {},
   "outputs": [],
   "source": [
    "basepath = Path.cwd() / '00 - datasets' / 'FoodMart'"
   ]
  },
  {
   "cell_type": "code",
   "execution_count": 29,
   "metadata": {},
   "outputs": [],
   "source": [
    "# Creo diccionario de dataframes para tener centralizados los csv\n",
    "csvlist = list(basepath.glob('*.csv'))\n",
    "dataset = {csvlist[i].stem : pd.read_csv(csvlist[i]) for i in range(len(csvlist))}\n",
    "\n",
    "store = dataset['Store-Lookup']\n",
    "region = dataset['Region-Lookup']\n",
    "product = dataset['Product-Lookup']\n",
    "transactions98 = dataset['FoodMart-Transactions-1998']\n",
    "transactions97 = dataset['FoodMart-Transactions-1997']\n",
    "returns = dataset['FoodMart-Returns-1997-1998']\n",
    "customer = dataset['Customer-Lookup']\n",
    "calendar = dataset['Calendar-Lookup']"
   ]
  },
  {
   "cell_type": "markdown",
   "metadata": {},
   "source": [
    "## Tratamiento de datos"
   ]
  },
  {
   "cell_type": "markdown",
   "metadata": {},
   "source": [
    "Tratamiento de fechas, concatenar ficheros, crear calendario, construir modelo en estrella vs. copo de nieve"
   ]
  },
  {
   "cell_type": "code",
   "execution_count": 23,
   "metadata": {},
   "outputs": [
    {
     "data": {
      "text/plain": [
       "store_id                         int64\n",
       "region_id                        int64\n",
       "store_type                      object\n",
       "store_name                      object\n",
       "store_street_address            object\n",
       "store_city                      object\n",
       "store_state                     object\n",
       "store_country                   object\n",
       "store_phone                     object\n",
       "first_opened_date       datetime64[ns]\n",
       "last_remodel_date       datetime64[ns]\n",
       "total_sqft                       int64\n",
       "grocery_sqft                     int64\n",
       "dtype: object"
      ]
     },
     "execution_count": 23,
     "metadata": {},
     "output_type": "execute_result"
    }
   ],
   "source": [
    "# store['first_opened_date'] = pd.to_datetime(store['first_opened_date'])\n",
    "# store['last_remodel_date'] = pd.to_datetime(store['last_remodel_date'])\n",
    "store[['first_opened_date', 'last_remodel_date']] = store[[\n",
    "    'first_opened_date', 'last_remodel_date']].apply(pd.to_datetime, errors='coerce')\n",
    "\n",
    "store.dtypes"
   ]
  },
  {
   "cell_type": "code",
   "execution_count": 24,
   "metadata": {},
   "outputs": [
    {
     "data": {
      "text/plain": [
       "transaction_date    datetime64[ns]\n",
       "stock_date          datetime64[ns]\n",
       "product_id                   int64\n",
       "customer_id                  int64\n",
       "store_id                     int64\n",
       "quantity                     int64\n",
       "dtype: object"
      ]
     },
     "execution_count": 24,
     "metadata": {},
     "output_type": "execute_result"
    }
   ],
   "source": [
    "# Concatenamos y formateamos fechas correctamente\n",
    "transactions = pd.concat([transactions97, transactions98])\n",
    "\n",
    "transactions[['transaction_date', 'stock_date']] = transactions[[\n",
    "    'transaction_date', 'stock_date']].apply(pd.to_datetime, errors='coerce')\n",
    "\n",
    "transactions.dtypes"
   ]
  },
  {
   "cell_type": "code",
   "execution_count": 105,
   "metadata": {},
   "outputs": [
    {
     "data": {
      "text/plain": [
       "return_date    datetime64[ns]\n",
       "product_id              int64\n",
       "store_id                int64\n",
       "quantity                int64\n",
       "dtype: object"
      ]
     },
     "execution_count": 105,
     "metadata": {},
     "output_type": "execute_result"
    }
   ],
   "source": [
    "returns['return_date'] = pd.to_datetime(returns['return_date'], errors='coerce')\n",
    "returns.dtypes"
   ]
  },
  {
   "cell_type": "code",
   "execution_count": 59,
   "metadata": {},
   "outputs": [
    {
     "data": {
      "text/html": [
       "<div>\n",
       "<style scoped>\n",
       "    .dataframe tbody tr th:only-of-type {\n",
       "        vertical-align: middle;\n",
       "    }\n",
       "\n",
       "    .dataframe tbody tr th {\n",
       "        vertical-align: top;\n",
       "    }\n",
       "\n",
       "    .dataframe thead th {\n",
       "        text-align: right;\n",
       "    }\n",
       "</style>\n",
       "<table border=\"1\" class=\"dataframe\">\n",
       "  <thead>\n",
       "    <tr style=\"text-align: right;\">\n",
       "      <th></th>\n",
       "      <th>date</th>\n",
       "      <th>year</th>\n",
       "      <th>month</th>\n",
       "      <th>day</th>\n",
       "      <th>Q</th>\n",
       "      <th>dayname</th>\n",
       "      <th>week</th>\n",
       "      <th>weekday</th>\n",
       "    </tr>\n",
       "  </thead>\n",
       "  <tbody>\n",
       "    <tr>\n",
       "      <th>0</th>\n",
       "      <td>1997-01-01</td>\n",
       "      <td>1997</td>\n",
       "      <td>1</td>\n",
       "      <td>1</td>\n",
       "      <td>1</td>\n",
       "      <td>Wednesday</td>\n",
       "      <td>1</td>\n",
       "      <td>2</td>\n",
       "    </tr>\n",
       "    <tr>\n",
       "      <th>1</th>\n",
       "      <td>1997-01-02</td>\n",
       "      <td>1997</td>\n",
       "      <td>1</td>\n",
       "      <td>2</td>\n",
       "      <td>1</td>\n",
       "      <td>Thursday</td>\n",
       "      <td>1</td>\n",
       "      <td>3</td>\n",
       "    </tr>\n",
       "    <tr>\n",
       "      <th>2</th>\n",
       "      <td>1997-01-03</td>\n",
       "      <td>1997</td>\n",
       "      <td>1</td>\n",
       "      <td>3</td>\n",
       "      <td>1</td>\n",
       "      <td>Friday</td>\n",
       "      <td>1</td>\n",
       "      <td>4</td>\n",
       "    </tr>\n",
       "    <tr>\n",
       "      <th>3</th>\n",
       "      <td>1997-01-04</td>\n",
       "      <td>1997</td>\n",
       "      <td>1</td>\n",
       "      <td>4</td>\n",
       "      <td>1</td>\n",
       "      <td>Saturday</td>\n",
       "      <td>1</td>\n",
       "      <td>5</td>\n",
       "    </tr>\n",
       "    <tr>\n",
       "      <th>4</th>\n",
       "      <td>1997-01-05</td>\n",
       "      <td>1997</td>\n",
       "      <td>1</td>\n",
       "      <td>5</td>\n",
       "      <td>1</td>\n",
       "      <td>Sunday</td>\n",
       "      <td>1</td>\n",
       "      <td>6</td>\n",
       "    </tr>\n",
       "  </tbody>\n",
       "</table>\n",
       "</div>"
      ],
      "text/plain": [
       "        date  year  month  day  Q    dayname  week  weekday\n",
       "0 1997-01-01  1997      1    1  1  Wednesday     1        2\n",
       "1 1997-01-02  1997      1    2  1   Thursday     1        3\n",
       "2 1997-01-03  1997      1    3  1     Friday     1        4\n",
       "3 1997-01-04  1997      1    4  1   Saturday     1        5\n",
       "4 1997-01-05  1997      1    5  1     Sunday     1        6"
      ]
     },
     "execution_count": 59,
     "metadata": {},
     "output_type": "execute_result"
    }
   ],
   "source": [
    "# Creamos tabla calendario\n",
    "calendar['date'] = pd.to_datetime(calendar['date'])\n",
    "calendar['year'] = calendar['date'].dt.year\n",
    "calendar['month'] = calendar['date'].dt.month\n",
    "calendar['day'] = calendar['date'].dt.day\n",
    "calendar['Q'] = calendar['date'].dt.quarter\n",
    "calendar['dayname'] = calendar['date'].dt.day_name()\n",
    "calendar['weekday'] = calendar['date'].dt.weekday\n",
    "calendar['week'] = calendar['date'].dt.isocalendar().week.astype('int64')\n",
    "calendar.head()"
   ]
  },
  {
   "cell_type": "code",
   "execution_count": 30,
   "metadata": {},
   "outputs": [
    {
     "data": {
      "text/plain": [
       "customer_id                         int64\n",
       "customer_acct_num                   int64\n",
       "first_name                         object\n",
       "last_name                          object\n",
       "customer_address                   object\n",
       "customer_city                      object\n",
       "customer_state_province            object\n",
       "customer_postal_code                int64\n",
       "customer_country                   object\n",
       "birthdate                  datetime64[ns]\n",
       "marital_status                     object\n",
       "yearly_income                      object\n",
       "gender                             object\n",
       "total_children                      int64\n",
       "num_children_at_home                int64\n",
       "education                          object\n",
       "acct_open_date             datetime64[ns]\n",
       "member_card                        object\n",
       "occupation                         object\n",
       "homeowner                          object\n",
       "dtype: object"
      ]
     },
     "execution_count": 30,
     "metadata": {},
     "output_type": "execute_result"
    }
   ],
   "source": [
    "customer[['birthdate','acct_open_date']] = customer[['birthdate','acct_open_date']].apply(pd.to_datetime, errors='coerce')\n",
    "customer.dtypes"
   ]
  },
  {
   "cell_type": "code",
   "execution_count": 61,
   "metadata": {},
   "outputs": [
    {
     "data": {
      "text/html": [
       "<div>\n",
       "<style scoped>\n",
       "    .dataframe tbody tr th:only-of-type {\n",
       "        vertical-align: middle;\n",
       "    }\n",
       "\n",
       "    .dataframe tbody tr th {\n",
       "        vertical-align: top;\n",
       "    }\n",
       "\n",
       "    .dataframe thead th {\n",
       "        text-align: right;\n",
       "    }\n",
       "</style>\n",
       "<table border=\"1\" class=\"dataframe\">\n",
       "  <thead>\n",
       "    <tr style=\"text-align: right;\">\n",
       "      <th></th>\n",
       "      <th>count</th>\n",
       "      <th>unique</th>\n",
       "      <th>most_freq</th>\n",
       "      <th>most_freq_count</th>\n",
       "      <th>least_freq</th>\n",
       "      <th>least_freq_count</th>\n",
       "    </tr>\n",
       "  </thead>\n",
       "  <tbody>\n",
       "    <tr>\n",
       "      <th>recyclable</th>\n",
       "      <td>873</td>\n",
       "      <td>1</td>\n",
       "      <td>1</td>\n",
       "      <td>873</td>\n",
       "      <td>1</td>\n",
       "      <td>873</td>\n",
       "    </tr>\n",
       "    <tr>\n",
       "      <th>low_fat</th>\n",
       "      <td>552</td>\n",
       "      <td>1</td>\n",
       "      <td>1</td>\n",
       "      <td>552</td>\n",
       "      <td>1</td>\n",
       "      <td>552</td>\n",
       "    </tr>\n",
       "    <tr>\n",
       "      <th>product_brand</th>\n",
       "      <td>1560</td>\n",
       "      <td>111</td>\n",
       "      <td>Hermanos</td>\n",
       "      <td>44</td>\n",
       "      <td>Prelude</td>\n",
       "      <td>1</td>\n",
       "    </tr>\n",
       "    <tr>\n",
       "      <th>product_cost</th>\n",
       "      <td>1560</td>\n",
       "      <td>173</td>\n",
       "      <td>0.25</td>\n",
       "      <td>24</td>\n",
       "      <td>1.94</td>\n",
       "      <td>1</td>\n",
       "    </tr>\n",
       "    <tr>\n",
       "      <th>product_retail_price</th>\n",
       "      <td>1560</td>\n",
       "      <td>315</td>\n",
       "      <td>2.65</td>\n",
       "      <td>15</td>\n",
       "      <td>3.28</td>\n",
       "      <td>1</td>\n",
       "    </tr>\n",
       "    <tr>\n",
       "      <th>product_weight</th>\n",
       "      <td>1560</td>\n",
       "      <td>376</td>\n",
       "      <td>17.1</td>\n",
       "      <td>17</td>\n",
       "      <td>7.88</td>\n",
       "      <td>1</td>\n",
       "    </tr>\n",
       "    <tr>\n",
       "      <th>product_id</th>\n",
       "      <td>1560</td>\n",
       "      <td>1560</td>\n",
       "      <td>1560</td>\n",
       "      <td>1</td>\n",
       "      <td>1560</td>\n",
       "      <td>1</td>\n",
       "    </tr>\n",
       "    <tr>\n",
       "      <th>product_name</th>\n",
       "      <td>1560</td>\n",
       "      <td>1560</td>\n",
       "      <td>Cormorant Plastic Knives</td>\n",
       "      <td>1</td>\n",
       "      <td>Cormorant Plastic Knives</td>\n",
       "      <td>1</td>\n",
       "    </tr>\n",
       "    <tr>\n",
       "      <th>product_sku</th>\n",
       "      <td>1560</td>\n",
       "      <td>1560</td>\n",
       "      <td>78262181878</td>\n",
       "      <td>1</td>\n",
       "      <td>78262181878</td>\n",
       "      <td>1</td>\n",
       "    </tr>\n",
       "  </tbody>\n",
       "</table>\n",
       "</div>"
      ],
      "text/plain": [
       "                      count  unique                 most_freq  \\\n",
       "recyclable              873       1                         1   \n",
       "low_fat                 552       1                         1   \n",
       "product_brand          1560     111                  Hermanos   \n",
       "product_cost           1560     173                      0.25   \n",
       "product_retail_price   1560     315                      2.65   \n",
       "product_weight         1560     376                      17.1   \n",
       "product_id             1560    1560                      1560   \n",
       "product_name           1560    1560  Cormorant Plastic Knives   \n",
       "product_sku            1560    1560               78262181878   \n",
       "\n",
       "                      most_freq_count                least_freq  \\\n",
       "recyclable                        873                         1   \n",
       "low_fat                           552                         1   \n",
       "product_brand                      44                   Prelude   \n",
       "product_cost                       24                      1.94   \n",
       "product_retail_price               15                      3.28   \n",
       "product_weight                     17                      7.88   \n",
       "product_id                          1                      1560   \n",
       "product_name                        1  Cormorant Plastic Knives   \n",
       "product_sku                         1               78262181878   \n",
       "\n",
       "                      least_freq_count  \n",
       "recyclable                         873  \n",
       "low_fat                            552  \n",
       "product_brand                        1  \n",
       "product_cost                         1  \n",
       "product_retail_price                 1  \n",
       "product_weight                       1  \n",
       "product_id                           1  \n",
       "product_name                         1  \n",
       "product_sku                          1  "
      ]
     },
     "execution_count": 61,
     "metadata": {},
     "output_type": "execute_result"
    }
   ],
   "source": [
    "product.stb.counts()"
   ]
  },
  {
   "cell_type": "markdown",
   "metadata": {},
   "source": [
    "## Fusión de datos en estrella"
   ]
  },
  {
   "cell_type": "code",
   "execution_count": 72,
   "metadata": {},
   "outputs": [
    {
     "data": {
      "text/plain": [
       "Index(['transaction_date', 'stock_date', 'product_id', 'customer_id',\n",
       "       'store_id', 'quantity'],\n",
       "      dtype='object')"
      ]
     },
     "execution_count": 72,
     "metadata": {},
     "output_type": "execute_result"
    }
   ],
   "source": [
    "transactions.columns\n"
   ]
  },
  {
   "cell_type": "code",
   "execution_count": 71,
   "metadata": {},
   "outputs": [
    {
     "data": {
      "text/plain": [
       "Index(['product_id', 'product_brand', 'product_name', 'product_sku',\n",
       "       'product_retail_price', 'product_cost', 'product_weight', 'recyclable',\n",
       "       'low_fat'],\n",
       "      dtype='object')"
      ]
     },
     "execution_count": 71,
     "metadata": {},
     "output_type": "execute_result"
    }
   ],
   "source": [
    "product.columns"
   ]
  },
  {
   "cell_type": "code",
   "execution_count": 103,
   "metadata": {
    "scrolled": true
   },
   "outputs": [
    {
     "data": {
      "text/plain": [
       "['Hermanos', 'Tell Tale', 'Ebony', 'Tri-State', 'High Top']"
      ]
     },
     "execution_count": 103,
     "metadata": {},
     "output_type": "execute_result"
    }
   ],
   "source": [
    "cincomejores=(transactions\n",
    "              .merge(product)\n",
    "              .groupby('product_brand')['quantity']\n",
    "              .sum()\n",
    "              .nlargest(5)\n",
    "              .index\n",
    "              .tolist()\n",
    "             )\n",
    "cincomejores"
   ]
  },
  {
   "cell_type": "code",
   "execution_count": 94,
   "metadata": {},
   "outputs": [],
   "source": [
    "agregadaproducto = transactions.merge(product)\n",
    "df = agregadaproducto[agregadaproducto['product_brand'].isin(cincomejores)]"
   ]
  },
  {
   "cell_type": "code",
   "execution_count": 102,
   "metadata": {},
   "outputs": [
    {
     "data": {
      "text/plain": [
       "(38041, 14)"
      ]
     },
     "execution_count": 102,
     "metadata": {},
     "output_type": "execute_result"
    }
   ],
   "source": [
    "df.shape"
   ]
  },
  {
   "cell_type": "code",
   "execution_count": 112,
   "metadata": {},
   "outputs": [
    {
     "data": {
      "text/plain": [
       "return_date\n",
       "1997-01-31    221\n",
       "1997-02-28    191\n",
       "1997-03-31    238\n",
       "1997-04-30    186\n",
       "1997-05-31    215\n",
       "1997-06-30    221\n",
       "1997-07-31    222\n",
       "1997-08-31    216\n",
       "1997-09-30    198\n",
       "1997-10-31    228\n",
       "1997-11-30    240\n",
       "1997-12-31    262\n",
       "1998-01-31    472\n",
       "1998-02-28    470\n",
       "1998-03-31    459\n",
       "1998-04-30    442\n",
       "1998-05-31    429\n",
       "1998-06-30    453\n",
       "1998-07-31    467\n",
       "1998-08-31    410\n",
       "1998-09-30    462\n",
       "1998-10-31    455\n",
       "1998-11-30    563\n",
       "1998-12-31    569\n",
       "Freq: M, Name: quantity, dtype: int64"
      ]
     },
     "execution_count": 112,
     "metadata": {},
     "output_type": "execute_result"
    }
   ],
   "source": [
    "returns.groupby(pd.Grouper(key='return_date',freq='M'))['quantity'].sum()"
   ]
  },
  {
   "cell_type": "code",
   "execution_count": 121,
   "metadata": {},
   "outputs": [
    {
     "data": {
      "text/plain": [
       "month\n",
       "1     346.5\n",
       "2     330.5\n",
       "3     348.5\n",
       "4     314.0\n",
       "5     322.0\n",
       "6     337.0\n",
       "7     344.5\n",
       "8     313.0\n",
       "9     330.0\n",
       "10    341.5\n",
       "11    401.5\n",
       "12    415.5\n",
       "dtype: float64"
      ]
     },
     "execution_count": 121,
     "metadata": {},
     "output_type": "execute_result"
    }
   ],
   "source": [
    "returns.merge(calendar, left_on='return_date', right_on='date').groupby(['year', 'month'])['quantity'].sum().unstack(level=0).mean(axis=1)"
   ]
  },
  {
   "cell_type": "code",
   "execution_count": null,
   "metadata": {},
   "outputs": [],
   "source": []
  },
  {
   "cell_type": "code",
   "execution_count": null,
   "metadata": {},
   "outputs": [],
   "source": []
  },
  {
   "cell_type": "code",
   "execution_count": null,
   "metadata": {},
   "outputs": [],
   "source": []
  },
  {
   "cell_type": "markdown",
   "metadata": {},
   "source": [
    "## Otras tareas"
   ]
  },
  {
   "cell_type": "markdown",
   "metadata": {},
   "source": [
    "* Realizar varias consultas contra la tabla de transacciones\n",
    "* Realizar algunos gráficos"
   ]
  },
  {
   "cell_type": "code",
   "execution_count": 31,
   "metadata": {},
   "outputs": [],
   "source": [
    "transaccionesancha = transactions.merge(store)"
   ]
  },
  {
   "cell_type": "code",
   "execution_count": 50,
   "metadata": {},
   "outputs": [
    {
     "data": {
      "text/plain": [
       "<AxesSubplot:ylabel='store_city'>"
      ]
     },
     "execution_count": 50,
     "metadata": {},
     "output_type": "execute_result"
    },
    {
     "data": {
      "image/png": "[encoded data removed]",
      "text/plain": [
       "<Figure size 432x288 with 1 Axes>"
      ]
     },
     "metadata": {
      "needs_background": "light"
     },
     "output_type": "display_data"
    }
   ],
   "source": [
    "transaccionesancha.groupby('store_city')['quantity'].sum().sort_values().plot.barh()"
   ]
  },
  {
   "cell_type": "markdown",
   "metadata": {},
   "source": [
    "Para clientes"
   ]
  },
  {
   "cell_type": "code",
   "execution_count": 54,
   "metadata": {},
   "outputs": [
    {
     "data": {
      "text/plain": [
       "first_name\n",
       "John         14559\n",
       "James        13551\n",
       "Robert       12568\n",
       "Mary         10781\n",
       "Michael       8933\n",
       "             ...  \n",
       "Loren            2\n",
       "Emyril           2\n",
       "Della            2\n",
       "Roselinda        1\n",
       "Zina             1\n",
       "Name: quantity, Length: 2101, dtype: int64"
      ]
     },
     "execution_count": 54,
     "metadata": {},
     "output_type": "execute_result"
    }
   ],
   "source": [
    "transactions.merge(customer).groupby('first_name')['quantity'].sum().sort_values(ascending=False)"
   ]
  },
  {
   "cell_type": "code",
   "execution_count": null,
   "metadata": {},
   "outputs": [],
   "source": []
  },
  {
   "cell_type": "code",
   "execution_count": null,
   "metadata": {},
   "outputs": [],
   "source": []
  },
  {
   "cell_type": "markdown",
   "metadata": {},
   "source": [
    "## Guardamos csv a disco"
   ]
  },
  {
   "cell_type": "code",
   "execution_count": null,
   "metadata": {},
   "outputs": [],
   "source": []
  }
 ],
 "metadata": {
  "kernelspec": {
   "display_name": "Python 3",
   "language": "python",
   "name": "python3"
  },
  "language_info": {
   "codemirror_mode": {
    "name": "ipython",
    "version": 3
   },
   "file_extension": ".py",
   "mimetype": "text/x-python",
   "name": "python",
   "nbconvert_exporter": "python",
   "pygments_lexer": "ipython3",
   "version": "3.8.5"
  },
  "toc": {
   "base_numbering": 1,
   "nav_menu": {},
   "number_sections": true,
   "sideBar": true,
   "skip_h1_title": true,
   "title_cell": "Índice",
   "title_sidebar": "Contents",
   "toc_cell": false,
   "toc_position": {},
   "toc_section_display": true,
   "toc_window_display": false
  }
 },
 "nbformat": 4,
 "nbformat_minor": 4
}
