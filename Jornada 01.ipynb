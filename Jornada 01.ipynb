{
 "metadata": {
  "language_info": {
   "codemirror_mode": {
    "name": "ipython",
    "version": 3
   },
   "file_extension": ".py",
   "mimetype": "text/x-python",
   "name": "python",
   "nbconvert_exporter": "python",
   "pygments_lexer": "ipython3",
   "version": "3.6.10-final"
  },
  "orig_nbformat": 2,
  "kernelspec": {
   "name": "python3",
   "display_name": "Python 3"
  }
 },
 "nbformat": 4,
 "nbformat_minor": 2,
 "cells": [
  {
   "source": [
    "# Este documento introduce los objetos de Pandas: Series y DataFrame\n",
    "\n"
   ],
   "cell_type": "markdown",
   "metadata": {}
  },
  {
   "cell_type": "code",
   "execution_count": 3,
   "metadata": {},
   "outputs": [],
   "source": [
    "# Cargamos las principales dependencias del proyecto.\n",
    "import numpy as np\n",
    "import pandas as pd\n",
    "import pandas.util.testing as tm"
   ]
  },
  {
   "source": [
    "## Lectura de ficheros"
   ],
   "cell_type": "markdown",
   "metadata": {}
  },
  {
   "cell_type": "code",
   "execution_count": 61,
   "metadata": {},
   "outputs": [
    {
     "output_type": "execute_result",
     "data": {
      "text/plain": [
       "C0       C_l0_g0 C_l0_g1 C_l0_g2 C_l0_g3 C_l0_g4 C_l0_g5 C_l0_g6 C_l0_g7  \\\n",
       "R0                                                                         \n",
       "R_l0_g95   R95C0   R95C1   R95C2   R95C3   R95C4   R95C5   R95C6   R95C7   \n",
       "R_l0_g96   R96C0   R96C1   R96C2   R96C3   R96C4   R96C5   R96C6   R96C7   \n",
       "R_l0_g97   R97C0   R97C1   R97C2   R97C3   R97C4   R97C5   R97C6   R97C7   \n",
       "R_l0_g98   R98C0   R98C1   R98C2   R98C3   R98C4   R98C5   R98C6   R98C7   \n",
       "R_l0_g99   R99C0   R99C1   R99C2   R99C3   R99C4   R99C5   R99C6   R99C7   \n",
       "\n",
       "C0       C_l0_g8 C_l0_g9  \n",
       "R0                        \n",
       "R_l0_g95   R95C8   R95C9  \n",
       "R_l0_g96   R96C8   R96C9  \n",
       "R_l0_g97   R97C8   R97C9  \n",
       "R_l0_g98   R98C8   R98C9  \n",
       "R_l0_g99   R99C8   R99C9  "
      ],
      "text/html": "<div>\n<style scoped>\n    .dataframe tbody tr th:only-of-type {\n        vertical-align: middle;\n    }\n\n    .dataframe tbody tr th {\n        vertical-align: top;\n    }\n\n    .dataframe thead th {\n        text-align: right;\n    }\n</style>\n<table border=\"1\" class=\"dataframe\">\n  <thead>\n    <tr style=\"text-align: right;\">\n      <th>C0</th>\n      <th>C_l0_g0</th>\n      <th>C_l0_g1</th>\n      <th>C_l0_g2</th>\n      <th>C_l0_g3</th>\n      <th>C_l0_g4</th>\n      <th>C_l0_g5</th>\n      <th>C_l0_g6</th>\n      <th>C_l0_g7</th>\n      <th>C_l0_g8</th>\n      <th>C_l0_g9</th>\n    </tr>\n    <tr>\n      <th>R0</th>\n      <th></th>\n      <th></th>\n      <th></th>\n      <th></th>\n      <th></th>\n      <th></th>\n      <th></th>\n      <th></th>\n      <th></th>\n      <th></th>\n    </tr>\n  </thead>\n  <tbody>\n    <tr>\n      <th>R_l0_g95</th>\n      <td>R95C0</td>\n      <td>R95C1</td>\n      <td>R95C2</td>\n      <td>R95C3</td>\n      <td>R95C4</td>\n      <td>R95C5</td>\n      <td>R95C6</td>\n      <td>R95C7</td>\n      <td>R95C8</td>\n      <td>R95C9</td>\n    </tr>\n    <tr>\n      <th>R_l0_g96</th>\n      <td>R96C0</td>\n      <td>R96C1</td>\n      <td>R96C2</td>\n      <td>R96C3</td>\n      <td>R96C4</td>\n      <td>R96C5</td>\n      <td>R96C6</td>\n      <td>R96C7</td>\n      <td>R96C8</td>\n      <td>R96C9</td>\n    </tr>\n    <tr>\n      <th>R_l0_g97</th>\n      <td>R97C0</td>\n      <td>R97C1</td>\n      <td>R97C2</td>\n      <td>R97C3</td>\n      <td>R97C4</td>\n      <td>R97C5</td>\n      <td>R97C6</td>\n      <td>R97C7</td>\n      <td>R97C8</td>\n      <td>R97C9</td>\n    </tr>\n    <tr>\n      <th>R_l0_g98</th>\n      <td>R98C0</td>\n      <td>R98C1</td>\n      <td>R98C2</td>\n      <td>R98C3</td>\n      <td>R98C4</td>\n      <td>R98C5</td>\n      <td>R98C6</td>\n      <td>R98C7</td>\n      <td>R98C8</td>\n      <td>R98C9</td>\n    </tr>\n    <tr>\n      <th>R_l0_g99</th>\n      <td>R99C0</td>\n      <td>R99C1</td>\n      <td>R99C2</td>\n      <td>R99C3</td>\n      <td>R99C4</td>\n      <td>R99C5</td>\n      <td>R99C6</td>\n      <td>R99C7</td>\n      <td>R99C8</td>\n      <td>R99C9</td>\n    </tr>\n  </tbody>\n</table>\n</div>"
     },
     "metadata": {},
     "execution_count": 61
    }
   ],
   "source": [
    "tm.N, tm.K = 15, 3\n",
    "df=tm.makeCustomDataframe(100, 10).tail()\n",
    "df"
   ]
  },
  {
   "cell_type": "code",
   "execution_count": 52,
   "metadata": {},
   "outputs": [],
   "source": [
    "import glob"
   ]
  },
  {
   "cell_type": "code",
   "execution_count": 59,
   "metadata": {},
   "outputs": [
    {
     "output_type": "execute_result",
     "data": {
      "text/plain": [
       "[11, 12, 13, 14, 15, 16, 17, 18, 19]"
      ]
     },
     "metadata": {},
     "execution_count": 59
    }
   ],
   "source": [
    "l = [i for i in range(20) if i> 10]\n",
    "l"
   ]
  }
 ]
}