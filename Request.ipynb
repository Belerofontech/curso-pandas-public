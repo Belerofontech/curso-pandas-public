{
 "cells": [
  {
   "cell_type": "markdown",
   "metadata": {},
   "source": [
    "## Requests"
   ]
  },
  {
   "cell_type": "markdown",
   "metadata": {},
   "source": [
    "Hay muchas librerías para hacer una petición HTTP en Python, como son httplib, urllib, httplib2 , treq, etc., pero REQUEST es la más simple y mejor documentada de todas."
   ]
  },
  {
   "cell_type": "code",
   "execution_count": 31,
   "metadata": {},
   "outputs": [],
   "source": [
    "import requests"
   ]
  },
  {
   "cell_type": "markdown",
   "metadata": {},
   "source": [
    "### GET"
   ]
  },
  {
   "cell_type": "markdown",
   "metadata": {},
   "source": [
    "La solicitud GET es el método más común y se utiliza para obtener los datos solicitados del un servidor específico."
   ]
  },
  {
   "cell_type": "code",
   "execution_count": 32,
   "metadata": {},
   "outputs": [],
   "source": [
    "r = requests.get('https://xkcd.com/1906/')"
   ]
  },
  {
   "cell_type": "markdown",
   "metadata": {},
   "source": [
    "Puedes ver los encabezados del GET usando '.headers'. Se devuelve en forma de diccionario de Python. D\n",
    "evuelven mucha información adicional que contiene el nombre y los tipos de fuentes junto con el nombre del servidor, la versión, etc."
   ]
  },
  {
   "cell_type": "code",
   "execution_count": 33,
   "metadata": {},
   "outputs": [
    {
     "data": {
      "text/plain": [
       "{'Connection': 'keep-alive', 'Content-Length': '2816', 'Server': 'nginx', 'Content-Type': 'text/html; charset=UTF-8', 'Last-Modified': 'Wed, 16 Dec 2020 22:10:23 GMT', 'ETag': 'W/\"5fda85cf-1be3\"', 'Expires': 'Thu, 17 Dec 2020 09:53:05 GMT', 'Cache-Control': 'max-age=300', 'Content-Encoding': 'gzip', 'Accept-Ranges': 'bytes', 'Date': 'Thu, 17 Dec 2020 10:57:30 GMT', 'Via': '1.1 varnish', 'Age': '0', 'X-Served-By': 'cache-mad22029-MAD', 'X-Cache': 'MISS', 'X-Cache-Hits': '0', 'X-Timer': 'S1608202650.683816,VS0,VE509', 'Vary': 'Accept-Encoding'}"
      ]
     },
     "execution_count": 33,
     "metadata": {},
     "output_type": "execute_result"
    }
   ],
   "source": [
    "r.headers"
   ]
  },
  {
   "cell_type": "markdown",
   "metadata": {},
   "source": [
    "__Pasando argumentos en GET:__\n",
    "\n",
    "Ahora usaremos el httpbin que es lo que usan las librerías HTTP simples para realizar pruebas. \n",
    "En este caso, los datos tendrían que ser dados después del _httpbin.org/get?key=value_, pero la petición proporciona una manera fácil de hacer un diccionario donde se pasa un argumento usando la palabra clave 'params'."
   ]
  },
  {
   "cell_type": "code",
   "execution_count": 34,
   "metadata": {},
   "outputs": [
    {
     "name": "stdout",
     "output_type": "stream",
     "text": [
      "{\n",
      "  \"args\": {\n",
      "    \"things\": \"2\", \n",
      "    \"total\": \"25\"\n",
      "  }, \n",
      "  \"headers\": {\n",
      "    \"Accept\": \"*/*\", \n",
      "    \"Accept-Encoding\": \"gzip, deflate\", \n",
      "    \"Host\": \"httpbin.org\", \n",
      "    \"User-Agent\": \"python-requests/2.24.0\", \n",
      "    \"X-Amzn-Trace-Id\": \"Root=1-5fdb399a-6e0a269f5d3af10777388f51\"\n",
      "  }, \n",
      "  \"origin\": \"88.26.183.198\", \n",
      "  \"url\": \"https://httpbin.org/get?things=2&total=25\"\n",
      "}\n",
      "\n",
      "https://httpbin.org/get?things=2&total=25\n"
     ]
    }
   ],
   "source": [
    "ploads = {'things': 2, 'total': 25}\n",
    "r = requests.get('https://httpbin.org/get', params=ploads)\n",
    "print(r.text)\n",
    "print(r.url)"
   ]
  },
  {
   "cell_type": "markdown",
   "metadata": {},
   "source": [
    "### POST"
   ]
  },
  {
   "cell_type": "markdown",
   "metadata": {},
   "source": [
    "POST es el método de solicitud más común usado para enviar datos al servidor para crear/actualizar en él.\n",
    "\n",
    "En este caso se crea un diccionario llamado 'pload' que se envía como argumento al post en 'data=pload'."
   ]
  },
  {
   "cell_type": "code",
   "execution_count": 35,
   "metadata": {},
   "outputs": [
    {
     "name": "stdout",
     "output_type": "stream",
     "text": [
      "{\n",
      "  \"args\": {}, \n",
      "  \"data\": \"\", \n",
      "  \"files\": {}, \n",
      "  \"form\": {\n",
      "    \"password\": \"123\", \n",
      "    \"username\": \"Olivia\"\n",
      "  }, \n",
      "  \"headers\": {\n",
      "    \"Accept\": \"*/*\", \n",
      "    \"Accept-Encoding\": \"gzip, deflate\", \n",
      "    \"Content-Length\": \"28\", \n",
      "    \"Content-Type\": \"application/x-www-form-urlencoded\", \n",
      "    \"Host\": \"httpbin.org\", \n",
      "    \"User-Agent\": \"python-requests/2.24.0\", \n",
      "    \"X-Amzn-Trace-Id\": \"Root=1-5fdb399b-7f8045d40ce33478453bca74\"\n",
      "  }, \n",
      "  \"json\": null, \n",
      "  \"origin\": \"88.26.183.198\", \n",
      "  \"url\": \"https://httpbin.org/post\"\n",
      "}\n",
      "\n"
     ]
    }
   ],
   "source": [
    "pload = {'username': 'Olivia', 'password': '123'}\n",
    "r = requests.post('https://httpbin.org/post', data=pload)\n",
    "print(r.text)"
   ]
  },
  {
   "cell_type": "markdown",
   "metadata": {},
   "source": [
    "## Archivo config.ini"
   ]
  },
  {
   "cell_type": "markdown",
   "metadata": {},
   "source": [
    "La librería configparser nos va a permitir pasar parámetros a nuestro script."
   ]
  },
  {
   "cell_type": "code",
   "execution_count": 36,
   "metadata": {},
   "outputs": [],
   "source": [
    "import configparser\n",
    "from pathlib import Path"
   ]
  },
  {
   "cell_type": "markdown",
   "metadata": {},
   "source": [
    "Para ver cómo funciona _configparser_ crearemos un archivo config.ini en la ruta que nos encontramos ahora.\n",
    "\n",
    "En este archivo, escribiremos los parámetros que deseamos enviar al script. Como este caso será sencillo, simplemente se ha definido la variable _params_ y dentro de ella se ha definido num = 2, que va a ser el parámetro que usemos.\n",
    "\n",
    "Dentro del archivo encontraremos simplemente lo siguiente:\n",
    "<center>\n",
    " [params]\n",
    "    \n",
    "     num = 2\n",
    " </center>"
   ]
  },
  {
   "cell_type": "code",
   "execution_count": 37,
   "metadata": {},
   "outputs": [
    {
     "data": {
      "text/plain": [
       "WindowsPath('C:/Users/arant/OneDrive/Documentos/Python Scripts/CursoIbercidePANDAS/02 - REQUEST')"
      ]
     },
     "execution_count": 37,
     "metadata": {},
     "output_type": "execute_result"
    }
   ],
   "source": [
    "Path.cwd()"
   ]
  },
  {
   "cell_type": "code",
   "execution_count": 38,
   "metadata": {},
   "outputs": [],
   "source": [
    "rutaconf = Path.cwd()/'config.ini'"
   ]
  },
  {
   "cell_type": "markdown",
   "metadata": {},
   "source": [
    "Una vez definida la ruta del archivo, debemos definir el parámetro en nuestro script llamando al archivo creado anteriormente:"
   ]
  },
  {
   "cell_type": "code",
   "execution_count": 39,
   "metadata": {},
   "outputs": [],
   "source": [
    "config = configparser.ConfigParser()\n",
    "config.read(rutaconf)\n",
    "config.sections()\n",
    "\n",
    "num = config['params']['num']\n",
    "num = int(num)"
   ]
  },
  {
   "cell_type": "markdown",
   "metadata": {},
   "source": [
    "Lo probamos:"
   ]
  },
  {
   "cell_type": "code",
   "execution_count": 40,
   "metadata": {},
   "outputs": [
    {
     "data": {
      "text/plain": [
       "6"
      ]
     },
     "execution_count": 40,
     "metadata": {},
     "output_type": "execute_result"
    }
   ],
   "source": [
    "A = 4 + num\n",
    "A"
   ]
  },
  {
   "cell_type": "markdown",
   "metadata": {},
   "source": [
    "## Logging"
   ]
  },
  {
   "cell_type": "markdown",
   "metadata": {},
   "source": [
    "Esta librería nos permitirá ir documentando los pasos que vamos llevando a cabo en nuestros scripts.\n",
    "Para poder hacer uso de ella, debemos importar logging:"
   ]
  },
  {
   "cell_type": "code",
   "execution_count": 41,
   "metadata": {},
   "outputs": [],
   "source": [
    "import logging"
   ]
  },
  {
   "cell_type": "markdown",
   "metadata": {},
   "source": [
    "El objetivo de este ejercicio será crear un archivo.log en el cual se guarden los mensajes que definamos. \n",
    "Para ello, debemos conocer la ruta en la que nos encontramos:"
   ]
  },
  {
   "cell_type": "code",
   "execution_count": 42,
   "metadata": {},
   "outputs": [
    {
     "data": {
      "text/plain": [
       "WindowsPath('C:/Users/arant/OneDrive/Documentos/Python Scripts/CursoIbercidePANDAS/02 - REQUEST')"
      ]
     },
     "execution_count": 42,
     "metadata": {},
     "output_type": "execute_result"
    }
   ],
   "source": [
    "Path.cwd()"
   ]
  },
  {
   "cell_type": "markdown",
   "metadata": {},
   "source": [
    "Una vez lo sabemos, añadiremos la ruta del archivo nuevo que vamos a crear. Recordad que cuando definimos de esta manera el archivo, si este no se encuentra, automáticamente se creará en cuanto le demos una salida."
   ]
  },
  {
   "cell_type": "code",
   "execution_count": 43,
   "metadata": {},
   "outputs": [],
   "source": [
    "rutalog = Path.cwd()/'logging.log'"
   ]
  },
  {
   "cell_type": "markdown",
   "metadata": {},
   "source": [
    "Configuraremos el log de tal manera que si en nuestro script definimos algún mensaje con logger, se escriba automáticamente en nuestro archivo.\n",
    "Si nos fijamos en el formato, se ha definido para que escriba la fecha y la hora, el nivel de logger (ya que puede ser informativo como el de nuestro ejemplo, pero existen otros como: CRITICAL, ERROR, WARNING...) y finalmente el mensaje definido."
   ]
  },
  {
   "cell_type": "code",
   "execution_count": 44,
   "metadata": {},
   "outputs": [],
   "source": [
    "logging.basicConfig(filename=rutalog, format='%(asctime)s - %(levelname)s - %(message)s',\n",
    "                    level=logging.INFO)\n",
    "logger = logging.getLogger()"
   ]
  },
  {
   "cell_type": "markdown",
   "metadata": {},
   "source": [
    "Finalmente, definimos un mensaje:"
   ]
  },
  {
   "cell_type": "code",
   "execution_count": 45,
   "metadata": {},
   "outputs": [],
   "source": [
    "logger.info('Estoy probando Logger')"
   ]
  },
  {
   "cell_type": "markdown",
   "metadata": {},
   "source": [
    "Si vamos al archivo.log (en nuestro caso logging.log), veremos cómo ya se ha escrito nuestro mensaje.\n",
    "Si ejecutáramos varias veces, veríamos como el mensaje se escribe en el archivo todas las veces que ha sido ejecutado."
   ]
  }
 ],
 "metadata": {
  "kernelspec": {
   "display_name": "Python 3",
   "language": "python",
   "name": "python3"
  },
  "language_info": {
   "codemirror_mode": {
    "name": "ipython",
    "version": 3
   },
   "file_extension": ".py",
   "mimetype": "text/x-python",
   "name": "python",
   "nbconvert_exporter": "python",
   "pygments_lexer": "ipython3",
   "version": "3.8.5"
  },
  "toc": {
   "base_numbering": 1,
   "nav_menu": {},
   "number_sections": true,
   "sideBar": true,
   "skip_h1_title": false,
   "title_cell": "Table of Contents",
   "title_sidebar": "Contents",
   "toc_cell": false,
   "toc_position": {
    "height": "calc(100% - 180px)",
    "left": "10px",
    "top": "150px",
    "width": "409.6px"
   },
   "toc_section_display": true,
   "toc_window_display": false
  }
 },
 "nbformat": 4,
 "nbformat_minor": 4
}
