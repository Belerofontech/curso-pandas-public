{
 "cells": [
  {
   "cell_type": "code",
   "execution_count": 177,
   "metadata": {},
   "outputs": [],
   "source": [
    "import numpy as np\n",
    "import pandas as pd\n",
    "import seaborn as sns\n",
    "import matplotlib.pyplot as plt\n",
    "import sidetable\n",
    "import glob\n",
    "import pathlib as path\n",
    "pd.options.display.float_format = '{:,.2f}'.format"
   ]
  },
  {
   "cell_type": "markdown",
   "metadata": {},
   "source": [
    "# Captación de la información del sistema de directorios "
   ]
  },
  {
   "cell_type": "code",
   "execution_count": 5,
   "metadata": {},
   "outputs": [],
   "source": [
    "ruta = path.Path.cwd() / '00 - datasets' / 'datasets' / 'babynames'"
   ]
  },
  {
   "cell_type": "code",
   "execution_count": 6,
   "metadata": {},
   "outputs": [],
   "source": [
    "def process_file(ruta):\n",
    "    ''' Esta función sirve para procesar los ficheros individualmente antes de procesarlos. Debiera\n",
    "        ser más rapida que el realizar el proceso sobre el fichero completo, ya que podrá optimizar\n",
    "        mejor el uso de memoria RAM en ficheros más pequeños.\n",
    "        Hay operaciones que nos se pueden hacer a este nivel y se pasan al nivel agregado.\n",
    "    '''\n",
    "    df = (\n",
    "        pd.read_csv(ruta, delimiter=',', names=['Name', 'Sex', 'Number'])\n",
    "        .assign(Year=ruta.name[3:7])  # year processing for including in df\n",
    "        .pipe(lambda df_: df_[['Year', 'Sex', 'Name', 'Number']])\n",
    "    )\n",
    "    return df"
   ]
  },
  {
   "cell_type": "code",
   "execution_count": 186,
   "metadata": {},
   "outputs": [
    {
     "data": {
      "text/html": [
       "<div>\n",
       "<style scoped>\n",
       "    .dataframe tbody tr th:only-of-type {\n",
       "        vertical-align: middle;\n",
       "    }\n",
       "\n",
       "    .dataframe tbody tr th {\n",
       "        vertical-align: top;\n",
       "    }\n",
       "\n",
       "    .dataframe thead th {\n",
       "        text-align: right;\n",
       "    }\n",
       "</style>\n",
       "<table border=\"1\" class=\"dataframe\">\n",
       "  <thead>\n",
       "    <tr style=\"text-align: right;\">\n",
       "      <th></th>\n",
       "      <th>Year</th>\n",
       "      <th>Sex</th>\n",
       "      <th>Name</th>\n",
       "      <th>Number</th>\n",
       "    </tr>\n",
       "  </thead>\n",
       "  <tbody>\n",
       "    <tr>\n",
       "      <th>0</th>\n",
       "      <td>1880</td>\n",
       "      <td>F</td>\n",
       "      <td>Adelle</td>\n",
       "      <td>5</td>\n",
       "    </tr>\n",
       "    <tr>\n",
       "      <th>1</th>\n",
       "      <td>1880</td>\n",
       "      <td>F</td>\n",
       "      <td>Adina</td>\n",
       "      <td>5</td>\n",
       "    </tr>\n",
       "    <tr>\n",
       "      <th>2</th>\n",
       "      <td>1880</td>\n",
       "      <td>F</td>\n",
       "      <td>Adrienne</td>\n",
       "      <td>5</td>\n",
       "    </tr>\n",
       "    <tr>\n",
       "      <th>3</th>\n",
       "      <td>1880</td>\n",
       "      <td>F</td>\n",
       "      <td>Albertine</td>\n",
       "      <td>5</td>\n",
       "    </tr>\n",
       "    <tr>\n",
       "      <th>4</th>\n",
       "      <td>1880</td>\n",
       "      <td>F</td>\n",
       "      <td>Alys</td>\n",
       "      <td>5</td>\n",
       "    </tr>\n",
       "  </tbody>\n",
       "</table>\n",
       "</div>"
      ],
      "text/plain": [
       "   Year Sex       Name  Number\n",
       "0  1880   F     Adelle       5\n",
       "1  1880   F      Adina       5\n",
       "2  1880   F   Adrienne       5\n",
       "3  1880   F  Albertine       5\n",
       "4  1880   F       Alys       5"
      ]
     },
     "execution_count": 186,
     "metadata": {},
     "output_type": "execute_result"
    }
   ],
   "source": [
    "# Realizo el empalmado de todos los ficheros ya preparados por la función de procesado\n",
    "# y realizo las últimas tareas de ordenación de ficheros.\n",
    "all_files = list(ruta.glob('*.txt'))\n",
    "dflist = (process_file(f) for f in all_files)\n",
    "df = (\n",
    "    pd.concat(dflist, ignore_index=True)\n",
    "    .sort_values(['Year', 'Sex', 'Number'])\n",
    "    .reset_index()\n",
    "    .drop('index', axis=1)\n",
    ")\n",
    "df.head()"
   ]
  },
  {
   "cell_type": "code",
   "execution_count": 58,
   "metadata": {},
   "outputs": [
    {
     "data": {
      "text/html": [
       "<div>\n",
       "<style scoped>\n",
       "    .dataframe tbody tr th:only-of-type {\n",
       "        vertical-align: middle;\n",
       "    }\n",
       "\n",
       "    .dataframe tbody tr th {\n",
       "        vertical-align: top;\n",
       "    }\n",
       "\n",
       "    .dataframe thead th {\n",
       "        text-align: right;\n",
       "    }\n",
       "</style>\n",
       "<table border=\"1\" class=\"dataframe\">\n",
       "  <thead>\n",
       "    <tr style=\"text-align: right;\">\n",
       "      <th></th>\n",
       "      <th>count</th>\n",
       "      <th>unique</th>\n",
       "      <th>most_freq</th>\n",
       "      <th>most_freq_count</th>\n",
       "      <th>least_freq</th>\n",
       "      <th>least_freq_count</th>\n",
       "    </tr>\n",
       "  </thead>\n",
       "  <tbody>\n",
       "    <tr>\n",
       "      <th>Sex</th>\n",
       "      <td>1690784</td>\n",
       "      <td>2</td>\n",
       "      <td>F</td>\n",
       "      <td>1003985</td>\n",
       "      <td>M</td>\n",
       "      <td>686799</td>\n",
       "    </tr>\n",
       "    <tr>\n",
       "      <th>Year</th>\n",
       "      <td>1690784</td>\n",
       "      <td>131</td>\n",
       "      <td>2008</td>\n",
       "      <td>35006</td>\n",
       "      <td>1881</td>\n",
       "      <td>1935</td>\n",
       "    </tr>\n",
       "    <tr>\n",
       "      <th>Number</th>\n",
       "      <td>1690784</td>\n",
       "      <td>13380</td>\n",
       "      <td>5</td>\n",
       "      <td>235691</td>\n",
       "      <td>29364</td>\n",
       "      <td>1</td>\n",
       "    </tr>\n",
       "    <tr>\n",
       "      <th>Name</th>\n",
       "      <td>1690784</td>\n",
       "      <td>88496</td>\n",
       "      <td>Sidney</td>\n",
       "      <td>262</td>\n",
       "      <td>Donagene</td>\n",
       "      <td>1</td>\n",
       "    </tr>\n",
       "  </tbody>\n",
       "</table>\n",
       "</div>"
      ],
      "text/plain": [
       "          count  unique most_freq  most_freq_count least_freq  \\\n",
       "Sex     1690784       2         F          1003985          M   \n",
       "Year    1690784     131      2008            35006       1881   \n",
       "Number  1690784   13380         5           235691      29364   \n",
       "Name    1690784   88496    Sidney              262   Donagene   \n",
       "\n",
       "        least_freq_count  \n",
       "Sex               686799  \n",
       "Year                1935  \n",
       "Number                 1  \n",
       "Name                   1  "
      ]
     },
     "execution_count": 58,
     "metadata": {},
     "output_type": "execute_result"
    }
   ],
   "source": [
    "df.stb.counts()"
   ]
  },
  {
   "cell_type": "code",
   "execution_count": 208,
   "metadata": {},
   "outputs": [
    {
     "data": {
      "text/plain": [
       "<AxesSubplot:xlabel='Year'>"
      ]
     },
     "execution_count": 208,
     "metadata": {},
     "output_type": "execute_result"
    },
    {
     "data": {
      "image/png": "[encoded data removed]",
      "text/plain": [
       "<Figure size 432x288 with 1 Axes>"
      ]
     },
     "metadata": {
      "needs_background": "light"
     },
     "output_type": "display_data"
    }
   ],
   "source": [
    "df.groupby(['Sex','Year'])['Name'].nunique().unstack(level=0).plot()"
   ]
  },
  {
   "cell_type": "code",
   "execution_count": 102,
   "metadata": {},
   "outputs": [
    {
     "data": {
      "text/plain": [
       "322"
      ]
     },
     "execution_count": 102,
     "metadata": {},
     "output_type": "execute_result"
    }
   ],
   "source": [
    "df.Number.sum()//1000000"
   ]
  },
  {
   "cell_type": "code",
   "execution_count": 124,
   "metadata": {},
   "outputs": [],
   "source": [
    "totales = df.groupby(['Sex', 'Name'])['Number'].sum().sort_values(ascending=False)"
   ]
  },
  {
   "cell_type": "code",
   "execution_count": 121,
   "metadata": {},
   "outputs": [
    {
     "data": {
      "text/html": [
       "<div>\n",
       "<style scoped>\n",
       "    .dataframe tbody tr th:only-of-type {\n",
       "        vertical-align: middle;\n",
       "    }\n",
       "\n",
       "    .dataframe tbody tr th {\n",
       "        vertical-align: top;\n",
       "    }\n",
       "\n",
       "    .dataframe thead th {\n",
       "        text-align: right;\n",
       "    }\n",
       "</style>\n",
       "<table border=\"1\" class=\"dataframe\">\n",
       "  <thead>\n",
       "    <tr style=\"text-align: right;\">\n",
       "      <th></th>\n",
       "      <th>Year</th>\n",
       "      <th>Sex</th>\n",
       "      <th>Name</th>\n",
       "      <th>Number</th>\n",
       "    </tr>\n",
       "  </thead>\n",
       "  <tbody>\n",
       "    <tr>\n",
       "      <th>1954</th>\n",
       "      <td>1880</td>\n",
       "      <td>M</td>\n",
       "      <td>Michael</td>\n",
       "      <td>354</td>\n",
       "    </tr>\n",
       "    <tr>\n",
       "      <th>1990</th>\n",
       "      <td>1880</td>\n",
       "      <td>M</td>\n",
       "      <td>Robert</td>\n",
       "      <td>2416</td>\n",
       "    </tr>\n",
       "    <tr>\n",
       "      <th>1997</th>\n",
       "      <td>1880</td>\n",
       "      <td>M</td>\n",
       "      <td>James</td>\n",
       "      <td>5927</td>\n",
       "    </tr>\n",
       "    <tr>\n",
       "      <th>1999</th>\n",
       "      <td>1880</td>\n",
       "      <td>M</td>\n",
       "      <td>John</td>\n",
       "      <td>9655</td>\n",
       "    </tr>\n",
       "    <tr>\n",
       "      <th>3881</th>\n",
       "      <td>1881</td>\n",
       "      <td>M</td>\n",
       "      <td>Michael</td>\n",
       "      <td>298</td>\n",
       "    </tr>\n",
       "    <tr>\n",
       "      <th>...</th>\n",
       "      <td>...</td>\n",
       "      <td>...</td>\n",
       "      <td>...</td>\n",
       "      <td>...</td>\n",
       "    </tr>\n",
       "    <tr>\n",
       "      <th>1656943</th>\n",
       "      <td>2009</td>\n",
       "      <td>M</td>\n",
       "      <td>Michael</td>\n",
       "      <td>18822</td>\n",
       "    </tr>\n",
       "    <tr>\n",
       "      <th>1690730</th>\n",
       "      <td>2010</td>\n",
       "      <td>M</td>\n",
       "      <td>Robert</td>\n",
       "      <td>7471</td>\n",
       "    </tr>\n",
       "    <tr>\n",
       "      <th>1690758</th>\n",
       "      <td>2010</td>\n",
       "      <td>M</td>\n",
       "      <td>John</td>\n",
       "      <td>11424</td>\n",
       "    </tr>\n",
       "    <tr>\n",
       "      <th>1690765</th>\n",
       "      <td>2010</td>\n",
       "      <td>M</td>\n",
       "      <td>James</td>\n",
       "      <td>13714</td>\n",
       "    </tr>\n",
       "    <tr>\n",
       "      <th>1690781</th>\n",
       "      <td>2010</td>\n",
       "      <td>M</td>\n",
       "      <td>Michael</td>\n",
       "      <td>17133</td>\n",
       "    </tr>\n",
       "  </tbody>\n",
       "</table>\n",
       "<p>524 rows × 4 columns</p>\n",
       "</div>"
      ],
      "text/plain": [
       "         Year Sex     Name  Number\n",
       "1954     1880   M  Michael     354\n",
       "1990     1880   M   Robert    2416\n",
       "1997     1880   M    James    5927\n",
       "1999     1880   M     John    9655\n",
       "3881     1881   M  Michael     298\n",
       "...       ...  ..      ...     ...\n",
       "1656943  2009   M  Michael   18822\n",
       "1690730  2010   M   Robert    7471\n",
       "1690758  2010   M     John   11424\n",
       "1690765  2010   M    James   13714\n",
       "1690781  2010   M  Michael   17133\n",
       "\n",
       "[524 rows x 4 columns]"
      ]
     },
     "execution_count": 121,
     "metadata": {},
     "output_type": "execute_result"
    }
   ],
   "source": [
    "df[(df['Name'].isin(['James', 'John', 'Robert', 'Michael'])) & (df['Sex'] == 'M')]"
   ]
  },
  {
   "cell_type": "code",
   "execution_count": 187,
   "metadata": {},
   "outputs": [
    {
     "data": {
      "text/plain": [
       "Sex  Name     \n",
       "M    James        6000000\n",
       "     John         6000000\n",
       "     Robert       6000000\n",
       "     Michael      6000000\n",
       "F    Mary         6000000\n",
       "                   ...   \n",
       "     Neatha             6\n",
       "     Ned                6\n",
       "     Neelee             6\n",
       "     Neeru              6\n",
       "     Aabriella          6\n",
       "Name: Bin, Length: 98148, dtype: category\n",
       "Categories (7, int64): [6 < 60 < 600 < 6000 < 60000 < 600000 < 6000000]"
      ]
     },
     "execution_count": 187,
     "metadata": {},
     "output_type": "execute_result"
    }
   ],
   "source": [
    "cubetas = [0] + [6 * 10 ** x for x in range(7)]\n",
    "grupos = pd.cut(totales, cubetas, labels=cubetas[1:])\n",
    "grupos.rename('Bin', inplace=True)"
   ]
  },
  {
   "cell_type": "code",
   "execution_count": 188,
   "metadata": {},
   "outputs": [],
   "source": [
    "df = pd.merge(df, grupos, how='left', left_on=[\n",
    "              'Sex', 'Name'], right_index=True)"
   ]
  },
  {
   "cell_type": "code",
   "execution_count": 190,
   "metadata": {},
   "outputs": [
    {
     "data": {
      "text/html": [
       "<div>\n",
       "<style scoped>\n",
       "    .dataframe tbody tr th:only-of-type {\n",
       "        vertical-align: middle;\n",
       "    }\n",
       "\n",
       "    .dataframe tbody tr th {\n",
       "        vertical-align: top;\n",
       "    }\n",
       "\n",
       "    .dataframe thead th {\n",
       "        text-align: right;\n",
       "    }\n",
       "</style>\n",
       "<table border=\"1\" class=\"dataframe\">\n",
       "  <thead>\n",
       "    <tr style=\"text-align: right;\">\n",
       "      <th></th>\n",
       "      <th>Year</th>\n",
       "      <th>Sex</th>\n",
       "      <th>Name</th>\n",
       "      <th>Number</th>\n",
       "      <th>Bin</th>\n",
       "      <th>Percentage</th>\n",
       "    </tr>\n",
       "  </thead>\n",
       "  <tbody>\n",
       "    <tr>\n",
       "      <th>0</th>\n",
       "      <td>1880</td>\n",
       "      <td>F</td>\n",
       "      <td>Adelle</td>\n",
       "      <td>5</td>\n",
       "      <td>6000</td>\n",
       "      <td>0.01</td>\n",
       "    </tr>\n",
       "    <tr>\n",
       "      <th>1</th>\n",
       "      <td>1880</td>\n",
       "      <td>F</td>\n",
       "      <td>Adina</td>\n",
       "      <td>5</td>\n",
       "      <td>6000</td>\n",
       "      <td>0.01</td>\n",
       "    </tr>\n",
       "    <tr>\n",
       "      <th>2</th>\n",
       "      <td>1880</td>\n",
       "      <td>F</td>\n",
       "      <td>Adrienne</td>\n",
       "      <td>5</td>\n",
       "      <td>600000</td>\n",
       "      <td>0.01</td>\n",
       "    </tr>\n",
       "    <tr>\n",
       "      <th>3</th>\n",
       "      <td>1880</td>\n",
       "      <td>F</td>\n",
       "      <td>Albertine</td>\n",
       "      <td>5</td>\n",
       "      <td>6000</td>\n",
       "      <td>0.01</td>\n",
       "    </tr>\n",
       "    <tr>\n",
       "      <th>4</th>\n",
       "      <td>1880</td>\n",
       "      <td>F</td>\n",
       "      <td>Alys</td>\n",
       "      <td>5</td>\n",
       "      <td>6000</td>\n",
       "      <td>0.01</td>\n",
       "    </tr>\n",
       "  </tbody>\n",
       "</table>\n",
       "</div>"
      ],
      "text/plain": [
       "   Year Sex       Name  Number     Bin  Percentage\n",
       "0  1880   F     Adelle       5    6000        0.01\n",
       "1  1880   F      Adina       5    6000        0.01\n",
       "2  1880   F   Adrienne       5  600000        0.01\n",
       "3  1880   F  Albertine       5    6000        0.01\n",
       "4  1880   F       Alys       5    6000        0.01"
      ]
     },
     "execution_count": 190,
     "metadata": {},
     "output_type": "execute_result"
    }
   ],
   "source": [
    "df['Percentage'] = (df['Number'] / df.groupby(['Sex', 'Year'])\n",
    "                    ['Number'].transform('sum')) * 100\n",
    "df.head()"
   ]
  },
  {
   "cell_type": "code",
   "execution_count": 211,
   "metadata": {},
   "outputs": [
    {
     "data": {
      "text/plain": [
       "<AxesSubplot:xlabel='Sex,Year'>"
      ]
     },
     "execution_count": 211,
     "metadata": {},
     "output_type": "execute_result"
    },
    {
     "data": {
      "image/png": "[encoded data removed]",
      "text/plain": [
       "<Figure size 432x288 with 1 Axes>"
      ]
     },
     "metadata": {
      "needs_background": "light"
     },
     "output_type": "display_data"
    }
   ],
   "source": [
    "df[(df['Bin'] == 6000000) & (df['Sex'] == 'M')].groupby(['Sex','Year'])['Percentage'].sum().plot()"
   ]
  },
  {
   "cell_type": "code",
   "execution_count": 195,
   "metadata": {},
   "outputs": [
    {
     "data": {
      "text/plain": [
       "<AxesSubplot:xlabel='Year'>"
      ]
     },
     "execution_count": 195,
     "metadata": {},
     "output_type": "execute_result"
    },
    {
     "data": {
      "image/png": "[encoded data removed]",
      "text/plain": [
       "<Figure size 432x288 with 1 Axes>"
      ]
     },
     "metadata": {
      "needs_background": "light"
     },
     "output_type": "display_data"
    }
   ],
   "source": [
    "sns.lineplot(data=df, x='Year', y='Number', hue='Bin')"
   ]
  }
 ],
 "metadata": {
  "kernelspec": {
   "display_name": "Python 3",
   "language": "python",
   "name": "python3"
  },
  "language_info": {
   "codemirror_mode": {
    "name": "ipython",
    "version": 3
   },
   "file_extension": ".py",
   "mimetype": "text/x-python",
   "name": "python",
   "nbconvert_exporter": "python",
   "pygments_lexer": "ipython3",
   "version": "3.8.5"
  },
  "toc": {
   "base_numbering": 1,
   "nav_menu": {},
   "number_sections": true,
   "sideBar": true,
   "skip_h1_title": true,
   "title_cell": "Índice",
   "title_sidebar": "Contents",
   "toc_cell": false,
   "toc_position": {},
   "toc_section_display": true,
   "toc_window_display": false
  }
 },
 "nbformat": 4,
 "nbformat_minor": 4
}
