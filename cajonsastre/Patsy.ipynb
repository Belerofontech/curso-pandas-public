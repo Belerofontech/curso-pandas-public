{
 "cells": [
  {
   "cell_type": "code",
   "execution_count": 1,
   "metadata": {},
   "outputs": [],
   "source": [
    "import statsmodels.api as sm\n",
    "import statsmodels.formula.api as smf\n",
    "import numpy as np\n",
    "import pandas"
   ]
  },
  {
   "cell_type": "code",
   "execution_count": 4,
   "metadata": {},
   "outputs": [
    {
     "data": {
      "text/html": [
       "<div>\n",
       "<style scoped>\n",
       "    .dataframe tbody tr th:only-of-type {\n",
       "        vertical-align: middle;\n",
       "    }\n",
       "\n",
       "    .dataframe tbody tr th {\n",
       "        vertical-align: top;\n",
       "    }\n",
       "\n",
       "    .dataframe thead th {\n",
       "        text-align: right;\n",
       "    }\n",
       "</style>\n",
       "<table border=\"1\" class=\"dataframe\">\n",
       "  <thead>\n",
       "    <tr style=\"text-align: right;\">\n",
       "      <th></th>\n",
       "      <th>Lottery</th>\n",
       "      <th>Literacy</th>\n",
       "      <th>Wealth</th>\n",
       "      <th>Region</th>\n",
       "    </tr>\n",
       "  </thead>\n",
       "  <tbody>\n",
       "    <tr>\n",
       "      <th>0</th>\n",
       "      <td>41</td>\n",
       "      <td>37</td>\n",
       "      <td>73</td>\n",
       "      <td>E</td>\n",
       "    </tr>\n",
       "    <tr>\n",
       "      <th>1</th>\n",
       "      <td>38</td>\n",
       "      <td>51</td>\n",
       "      <td>22</td>\n",
       "      <td>N</td>\n",
       "    </tr>\n",
       "    <tr>\n",
       "      <th>2</th>\n",
       "      <td>66</td>\n",
       "      <td>13</td>\n",
       "      <td>61</td>\n",
       "      <td>C</td>\n",
       "    </tr>\n",
       "    <tr>\n",
       "      <th>3</th>\n",
       "      <td>80</td>\n",
       "      <td>46</td>\n",
       "      <td>76</td>\n",
       "      <td>E</td>\n",
       "    </tr>\n",
       "    <tr>\n",
       "      <th>4</th>\n",
       "      <td>79</td>\n",
       "      <td>69</td>\n",
       "      <td>83</td>\n",
       "      <td>E</td>\n",
       "    </tr>\n",
       "  </tbody>\n",
       "</table>\n",
       "</div>"
      ],
      "text/plain": [
       "   Lottery  Literacy  Wealth Region\n",
       "0       41        37      73      E\n",
       "1       38        51      22      N\n",
       "2       66        13      61      C\n",
       "3       80        46      76      E\n",
       "4       79        69      83      E"
      ]
     },
     "execution_count": 4,
     "metadata": {},
     "output_type": "execute_result"
    }
   ],
   "source": [
    "df = sm.datasets.get_rdataset(\"Guerry\", \"HistData\").data\n",
    "df = df[['Lottery', 'Literacy', 'Wealth', 'Region']].dropna()\n",
    "df.head()"
   ]
  },
  {
   "cell_type": "code",
   "execution_count": 5,
   "metadata": {},
   "outputs": [],
   "source": [
    "mod = smf.ols(\n",
    "    formula='Lottery ~ Literacy + np.log(Wealth) + Region + Wealth * Region', data=df)\n",
    "res = mod.fit()"
   ]
  },
  {
   "cell_type": "markdown",
   "metadata": {},
   "source": [
    "# patata"
   ]
  },
  {
   "cell_type": "code",
   "execution_count": 6,
   "metadata": {},
   "outputs": [
    {
     "data": {
      "text/html": [
       "<table class=\"simpletable\">\n",
       "<caption>OLS Regression Results</caption>\n",
       "<tr>\n",
       "  <th>Dep. Variable:</th>         <td>Lottery</td>     <th>  R-squared:         </th> <td>   0.379</td>\n",
       "</tr>\n",
       "<tr>\n",
       "  <th>Model:</th>                   <td>OLS</td>       <th>  Adj. R-squared:    </th> <td>   0.285</td>\n",
       "</tr>\n",
       "<tr>\n",
       "  <th>Method:</th>             <td>Least Squares</td>  <th>  F-statistic:       </th> <td>   4.044</td>\n",
       "</tr>\n",
       "<tr>\n",
       "  <th>Date:</th>             <td>Thu, 17 Dec 2020</td> <th>  Prob (F-statistic):</th> <td>0.000126</td>\n",
       "</tr>\n",
       "<tr>\n",
       "  <th>Time:</th>                 <td>09:45:04</td>     <th>  Log-Likelihood:    </th> <td> -372.61</td>\n",
       "</tr>\n",
       "<tr>\n",
       "  <th>No. Observations:</th>      <td>    85</td>      <th>  AIC:               </th> <td>   769.2</td>\n",
       "</tr>\n",
       "<tr>\n",
       "  <th>Df Residuals:</th>          <td>    73</td>      <th>  BIC:               </th> <td>   798.5</td>\n",
       "</tr>\n",
       "<tr>\n",
       "  <th>Df Model:</th>              <td>    11</td>      <th>                     </th>     <td> </td>   \n",
       "</tr>\n",
       "<tr>\n",
       "  <th>Covariance Type:</th>      <td>nonrobust</td>    <th>                     </th>     <td> </td>   \n",
       "</tr>\n",
       "</table>\n",
       "<table class=\"simpletable\">\n",
       "<tr>\n",
       "           <td></td>             <th>coef</th>     <th>std err</th>      <th>t</th>      <th>P>|t|</th>  <th>[0.025</th>    <th>0.975]</th>  \n",
       "</tr>\n",
       "<tr>\n",
       "  <th>Intercept</th>          <td>   -2.5289</td> <td>   24.149</td> <td>   -0.105</td> <td> 0.917</td> <td>  -50.658</td> <td>   45.600</td>\n",
       "</tr>\n",
       "<tr>\n",
       "  <th>Region[T.E]</th>        <td>   -8.6588</td> <td>   17.202</td> <td>   -0.503</td> <td> 0.616</td> <td>  -42.942</td> <td>   25.625</td>\n",
       "</tr>\n",
       "<tr>\n",
       "  <th>Region[T.N]</th>        <td>    4.8506</td> <td>   16.186</td> <td>    0.300</td> <td> 0.765</td> <td>  -27.408</td> <td>   37.110</td>\n",
       "</tr>\n",
       "<tr>\n",
       "  <th>Region[T.S]</th>        <td>    2.1879</td> <td>   16.159</td> <td>    0.135</td> <td> 0.893</td> <td>  -30.016</td> <td>   34.392</td>\n",
       "</tr>\n",
       "<tr>\n",
       "  <th>Region[T.W]</th>        <td>    8.5745</td> <td>   16.950</td> <td>    0.506</td> <td> 0.614</td> <td>  -25.206</td> <td>   42.356</td>\n",
       "</tr>\n",
       "<tr>\n",
       "  <th>Literacy</th>           <td>   -0.0525</td> <td>    0.227</td> <td>   -0.231</td> <td> 0.818</td> <td>   -0.505</td> <td>    0.400</td>\n",
       "</tr>\n",
       "<tr>\n",
       "  <th>np.log(Wealth)</th>     <td>   12.4445</td> <td>    6.887</td> <td>    1.807</td> <td> 0.075</td> <td>   -1.281</td> <td>   26.170</td>\n",
       "</tr>\n",
       "<tr>\n",
       "  <th>Wealth</th>             <td>    0.2809</td> <td>    0.301</td> <td>    0.934</td> <td> 0.353</td> <td>   -0.318</td> <td>    0.880</td>\n",
       "</tr>\n",
       "<tr>\n",
       "  <th>Wealth:Region[T.E]</th> <td>   -0.2138</td> <td>    0.321</td> <td>   -0.665</td> <td> 0.508</td> <td>   -0.855</td> <td>    0.427</td>\n",
       "</tr>\n",
       "<tr>\n",
       "  <th>Wealth:Region[T.N]</th> <td>   -0.4732</td> <td>    0.467</td> <td>   -1.013</td> <td> 0.314</td> <td>   -1.404</td> <td>    0.457</td>\n",
       "</tr>\n",
       "<tr>\n",
       "  <th>Wealth:Region[T.S]</th> <td>   -0.1373</td> <td>    0.318</td> <td>   -0.432</td> <td> 0.667</td> <td>   -0.771</td> <td>    0.497</td>\n",
       "</tr>\n",
       "<tr>\n",
       "  <th>Wealth:Region[T.W]</th> <td>   -0.3725</td> <td>    0.320</td> <td>   -1.164</td> <td> 0.248</td> <td>   -1.010</td> <td>    0.265</td>\n",
       "</tr>\n",
       "</table>\n",
       "<table class=\"simpletable\">\n",
       "<tr>\n",
       "  <th>Omnibus:</th>       <td> 3.154</td> <th>  Durbin-Watson:     </th> <td>   1.759</td>\n",
       "</tr>\n",
       "<tr>\n",
       "  <th>Prob(Omnibus):</th> <td> 0.207</td> <th>  Jarque-Bera (JB):  </th> <td>   3.040</td>\n",
       "</tr>\n",
       "<tr>\n",
       "  <th>Skew:</th>          <td>-0.405</td> <th>  Prob(JB):          </th> <td>   0.219</td>\n",
       "</tr>\n",
       "<tr>\n",
       "  <th>Kurtosis:</th>      <td> 2.552</td> <th>  Cond. No.          </th> <td>    926.</td>\n",
       "</tr>\n",
       "</table><br/><br/>Notes:<br/>[1] Standard Errors assume that the covariance matrix of the errors is correctly specified."
      ],
      "text/plain": [
       "<class 'statsmodels.iolib.summary.Summary'>\n",
       "\"\"\"\n",
       "                            OLS Regression Results                            \n",
       "==============================================================================\n",
       "Dep. Variable:                Lottery   R-squared:                       0.379\n",
       "Model:                            OLS   Adj. R-squared:                  0.285\n",
       "Method:                 Least Squares   F-statistic:                     4.044\n",
       "Date:                Thu, 17 Dec 2020   Prob (F-statistic):           0.000126\n",
       "Time:                        09:45:04   Log-Likelihood:                -372.61\n",
       "No. Observations:                  85   AIC:                             769.2\n",
       "Df Residuals:                      73   BIC:                             798.5\n",
       "Df Model:                          11                                         \n",
       "Covariance Type:            nonrobust                                         \n",
       "======================================================================================\n",
       "                         coef    std err          t      P>|t|      [0.025      0.975]\n",
       "--------------------------------------------------------------------------------------\n",
       "Intercept             -2.5289     24.149     -0.105      0.917     -50.658      45.600\n",
       "Region[T.E]           -8.6588     17.202     -0.503      0.616     -42.942      25.625\n",
       "Region[T.N]            4.8506     16.186      0.300      0.765     -27.408      37.110\n",
       "Region[T.S]            2.1879     16.159      0.135      0.893     -30.016      34.392\n",
       "Region[T.W]            8.5745     16.950      0.506      0.614     -25.206      42.356\n",
       "Literacy              -0.0525      0.227     -0.231      0.818      -0.505       0.400\n",
       "np.log(Wealth)        12.4445      6.887      1.807      0.075      -1.281      26.170\n",
       "Wealth                 0.2809      0.301      0.934      0.353      -0.318       0.880\n",
       "Wealth:Region[T.E]    -0.2138      0.321     -0.665      0.508      -0.855       0.427\n",
       "Wealth:Region[T.N]    -0.4732      0.467     -1.013      0.314      -1.404       0.457\n",
       "Wealth:Region[T.S]    -0.1373      0.318     -0.432      0.667      -0.771       0.497\n",
       "Wealth:Region[T.W]    -0.3725      0.320     -1.164      0.248      -1.010       0.265\n",
       "==============================================================================\n",
       "Omnibus:                        3.154   Durbin-Watson:                   1.759\n",
       "Prob(Omnibus):                  0.207   Jarque-Bera (JB):                3.040\n",
       "Skew:                          -0.405   Prob(JB):                        0.219\n",
       "Kurtosis:                       2.552   Cond. No.                         926.\n",
       "==============================================================================\n",
       "\n",
       "Notes:\n",
       "[1] Standard Errors assume that the covariance matrix of the errors is correctly specified.\n",
       "\"\"\""
      ]
     },
     "execution_count": 6,
     "metadata": {},
     "output_type": "execute_result"
    }
   ],
   "source": [
    "res.summary()"
   ]
  },
  {
   "cell_type": "code",
   "execution_count": 7,
   "metadata": {},
   "outputs": [
    {
     "data": {
      "text/plain": [
       "Intercept             -2.528934\n",
       "Region[T.E]           -8.658786\n",
       "Region[T.N]            4.850645\n",
       "Region[T.S]            2.187907\n",
       "Region[T.W]            8.574542\n",
       "Literacy              -0.052514\n",
       "np.log(Wealth)        12.444539\n",
       "Wealth                 0.280946\n",
       "Wealth:Region[T.E]    -0.213816\n",
       "Wealth:Region[T.N]    -0.473234\n",
       "Wealth:Region[T.S]    -0.137255\n",
       "Wealth:Region[T.W]    -0.372540\n",
       "dtype: float64"
      ]
     },
     "execution_count": 7,
     "metadata": {},
     "output_type": "execute_result"
    }
   ],
   "source": [
    "res.params"
   ]
  },
  {
   "cell_type": "code",
   "execution_count": 19,
   "metadata": {},
   "outputs": [
    {
     "data": {
      "text/plain": [
       "<bound method Results.predict of <statsmodels.regression.linear_model.OLSResults object at 0x0000018412B961F0>>"
      ]
     },
     "execution_count": 19,
     "metadata": {},
     "output_type": "execute_result"
    }
   ],
   "source": [
    "res.predict()"
   ]
  },
  {
   "cell_type": "code",
   "execution_count": null,
   "metadata": {},
   "outputs": [],
   "source": [
    "Completar regresion y logistica con statsmodels\n",
    "Predict con statsmodels"
   ]
  }
 ],
 "metadata": {
  "kernelspec": {
   "display_name": "Python 3",
   "language": "python",
   "name": "python3"
  },
  "language_info": {
   "codemirror_mode": {
    "name": "ipython",
    "version": 3
   },
   "file_extension": ".py",
   "mimetype": "text/x-python",
   "name": "python",
   "nbconvert_exporter": "python",
   "pygments_lexer": "ipython3",
   "version": "3.8.5"
  },
  "toc": {
   "base_numbering": 1,
   "nav_menu": {},
   "number_sections": true,
   "sideBar": true,
   "skip_h1_title": false,
   "title_cell": "Table of Contents",
   "title_sidebar": "Contents",
   "toc_cell": false,
   "toc_position": {},
   "toc_section_display": true,
   "toc_window_display": true
  }
 },
 "nbformat": 4,
 "nbformat_minor": 4
}
