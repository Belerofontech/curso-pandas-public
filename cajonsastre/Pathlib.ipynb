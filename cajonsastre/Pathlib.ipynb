{
 "cells": [
  {
   "cell_type": "markdown",
   "metadata": {},
   "source": [
    "# Gestión de ficheros con Pathlib"
   ]
  },
  {
   "cell_type": "markdown",
   "metadata": {},
   "source": [
    "Pathlib es una libreria de la biblioteca estandar de Python y contiene metodos muy utiles para tratar ficheros. Se puede realizar un tutorial de gran calidad en el siguiente enlace:\n",
    "\n",
    "https://realpython.com/python-pathlib/"
   ]
  },
  {
   "cell_type": "code",
   "execution_count": 2,
   "metadata": {},
   "outputs": [],
   "source": [
    "import pathlib as path"
   ]
  },
  {
   "cell_type": "code",
   "execution_count": 3,
   "metadata": {},
   "outputs": [],
   "source": [
    "ruta = path.Path() # constructor vacio"
   ]
  },
  {
   "cell_type": "code",
   "execution_count": 7,
   "metadata": {},
   "outputs": [
    {
     "data": {
      "text/plain": [
       "PosixPath('/home/benito/proyectosgithub/curso-pandas-public')"
      ]
     },
     "execution_count": 7,
     "metadata": {},
     "output_type": "execute_result"
    }
   ],
   "source": [
    "ruta.cwd() # directorio actual"
   ]
  },
  {
   "cell_type": "code",
   "execution_count": 5,
   "metadata": {},
   "outputs": [
    {
     "data": {
      "text/plain": [
       "PosixPath('/home/benito')"
      ]
     },
     "execution_count": 5,
     "metadata": {},
     "output_type": "execute_result"
    }
   ],
   "source": [
    "ruta.home() # directorio home"
   ]
  },
  {
   "cell_type": "code",
   "execution_count": 6,
   "metadata": {},
   "outputs": [
    {
     "data": {
      "text/plain": [
       "PosixPath('/home/benito/proyectosgithub')"
      ]
     },
     "execution_count": 6,
     "metadata": {},
     "output_type": "execute_result"
    }
   ],
   "source": [
    "local.parent # padre del director"
   ]
  },
  {
   "cell_type": "code",
   "execution_count": 10,
   "metadata": {},
   "outputs": [
    {
     "data": {
      "text/plain": [
       "WindowsPath('C:/Users/benito/Documents')"
      ]
     },
     "execution_count": 10,
     "metadata": {},
     "output_type": "execute_result"
    }
   ],
   "source": [
    "local.parent.parent"
   ]
  },
  {
   "cell_type": "code",
   "execution_count": 11,
   "metadata": {},
   "outputs": [
    {
     "data": {
      "text/plain": [
       "'C:\\\\'"
      ]
     },
     "execution_count": 11,
     "metadata": {},
     "output_type": "execute_result"
    }
   ],
   "source": [
    "local.anchor"
   ]
  },
  {
   "cell_type": "code",
   "execution_count": 12,
   "metadata": {},
   "outputs": [
    {
     "data": {
      "text/plain": [
       "'curso-pandas-public'"
      ]
     },
     "execution_count": 12,
     "metadata": {},
     "output_type": "execute_result"
    }
   ],
   "source": [
    "local.stem"
   ]
  },
  {
   "cell_type": "code",
   "execution_count": 17,
   "metadata": {},
   "outputs": [
    {
     "data": {
      "text/plain": [
       "<bound method Path.absolute of WindowsPath('C:/Users/benito/Documents/Git/curso-pandas-public')>"
      ]
     },
     "execution_count": 17,
     "metadata": {},
     "output_type": "execute_result"
    }
   ],
   "source": [
    "local.absolute"
   ]
  },
  {
   "cell_type": "code",
   "execution_count": 41,
   "metadata": {},
   "outputs": [],
   "source": [
    "local = local / '00 - datasets/'"
   ]
  },
  {
   "cell_type": "code",
   "execution_count": 42,
   "metadata": {},
   "outputs": [
    {
     "data": {
      "text/plain": [
       "[WindowsPath('C:/Users/benito/Documents/Git/curso-pandas-public/00 - datasets/01 - Basic.csv'),\n",
       " WindowsPath('C:/Users/benito/Documents/Git/curso-pandas-public/00 - datasets/boston_train.csv'),\n",
       " WindowsPath('C:/Users/benito/Documents/Git/curso-pandas-public/00 - datasets/covid.csv'),\n",
       " WindowsPath('C:/Users/benito/Documents/Git/curso-pandas-public/00 - datasets/diamonds.csv'),\n",
       " WindowsPath('C:/Users/benito/Documents/Git/curso-pandas-public/00 - datasets/iris.csv'),\n",
       " WindowsPath('C:/Users/benito/Documents/Git/curso-pandas-public/00 - datasets/nba_all_elo.csv'),\n",
       " WindowsPath('C:/Users/benito/Documents/Git/curso-pandas-public/00 - datasets/Pokemon.csv'),\n",
       " WindowsPath('C:/Users/benito/Documents/Git/curso-pandas-public/00 - datasets/Predict_BMI.csv'),\n",
       " WindowsPath('C:/Users/benito/Documents/Git/curso-pandas-public/00 - datasets/preprocesado.csv'),\n",
       " WindowsPath('C:/Users/benito/Documents/Git/curso-pandas-public/00 - datasets/titanic.csv'),\n",
       " WindowsPath('C:/Users/benito/Documents/Git/curso-pandas-public/00 - datasets/USA_cars_datasets.csv')]"
      ]
     },
     "execution_count": 42,
     "metadata": {},
     "output_type": "execute_result"
    }
   ],
   "source": [
    "list(local.glob('*.csv'))"
   ]
  },
  {
   "cell_type": "code",
   "execution_count": 43,
   "metadata": {
    "collapsed": true
   },
   "outputs": [
    {
     "data": {
      "text/plain": [
       "[WindowsPath('C:/Users/benito/Documents/Git/curso-pandas-public/00 - datasets/01 - Basic.csv'),\n",
       " WindowsPath('C:/Users/benito/Documents/Git/curso-pandas-public/00 - datasets/boston_train.csv'),\n",
       " WindowsPath('C:/Users/benito/Documents/Git/curso-pandas-public/00 - datasets/covid.csv'),\n",
       " WindowsPath('C:/Users/benito/Documents/Git/curso-pandas-public/00 - datasets/diamonds.csv'),\n",
       " WindowsPath('C:/Users/benito/Documents/Git/curso-pandas-public/00 - datasets/iris.csv'),\n",
       " WindowsPath('C:/Users/benito/Documents/Git/curso-pandas-public/00 - datasets/nba_all_elo.csv'),\n",
       " WindowsPath('C:/Users/benito/Documents/Git/curso-pandas-public/00 - datasets/Pokemon.csv'),\n",
       " WindowsPath('C:/Users/benito/Documents/Git/curso-pandas-public/00 - datasets/Predict_BMI.csv'),\n",
       " WindowsPath('C:/Users/benito/Documents/Git/curso-pandas-public/00 - datasets/preprocesado.csv'),\n",
       " WindowsPath('C:/Users/benito/Documents/Git/curso-pandas-public/00 - datasets/titanic.csv'),\n",
       " WindowsPath('C:/Users/benito/Documents/Git/curso-pandas-public/00 - datasets/USA_cars_datasets.csv'),\n",
       " WindowsPath('C:/Users/benito/Documents/Git/curso-pandas-public/00 - datasets/data/BicycleWeather.csv'),\n",
       " WindowsPath('C:/Users/benito/Documents/Git/curso-pandas-public/00 - datasets/data/births.csv'),\n",
       " WindowsPath('C:/Users/benito/Documents/Git/curso-pandas-public/00 - datasets/data/california_cities.csv'),\n",
       " WindowsPath('C:/Users/benito/Documents/Git/curso-pandas-public/00 - datasets/data/president_heights.csv'),\n",
       " WindowsPath('C:/Users/benito/Documents/Git/curso-pandas-public/00 - datasets/data/Seattle2014.csv'),\n",
       " WindowsPath('C:/Users/benito/Documents/Git/curso-pandas-public/00 - datasets/data/state-abbrevs.csv'),\n",
       " WindowsPath('C:/Users/benito/Documents/Git/curso-pandas-public/00 - datasets/data/state-areas.csv'),\n",
       " WindowsPath('C:/Users/benito/Documents/Git/curso-pandas-public/00 - datasets/data/state-population.csv'),\n",
       " WindowsPath('C:/Users/benito/Documents/Git/curso-pandas-public/00 - datasets/data/Anexado/Sales_CSV/200601.csv'),\n",
       " WindowsPath('C:/Users/benito/Documents/Git/curso-pandas-public/00 - datasets/data/Anexado/Sales_CSV/200602.csv'),\n",
       " WindowsPath('C:/Users/benito/Documents/Git/curso-pandas-public/00 - datasets/data/Anexado/Sales_CSV/200603.csv'),\n",
       " WindowsPath('C:/Users/benito/Documents/Git/curso-pandas-public/00 - datasets/data/Anexado/Sales_CSV/200604.csv'),\n",
       " WindowsPath('C:/Users/benito/Documents/Git/curso-pandas-public/00 - datasets/data/Anexado/Sales_CSV/200605.csv'),\n",
       " WindowsPath('C:/Users/benito/Documents/Git/curso-pandas-public/00 - datasets/data/Anexado/Sales_CSV/200606.csv'),\n",
       " WindowsPath('C:/Users/benito/Documents/Git/curso-pandas-public/00 - datasets/data/Anexado/Sales_CSV/200607.csv'),\n",
       " WindowsPath('C:/Users/benito/Documents/Git/curso-pandas-public/00 - datasets/data/Anexado/Sales_CSV/200608.csv'),\n",
       " WindowsPath('C:/Users/benito/Documents/Git/curso-pandas-public/00 - datasets/data/Anexado/Sales_CSV/200609.csv'),\n",
       " WindowsPath('C:/Users/benito/Documents/Git/curso-pandas-public/00 - datasets/data/Anexado/Sales_CSV/200610.csv'),\n",
       " WindowsPath('C:/Users/benito/Documents/Git/curso-pandas-public/00 - datasets/data/Anexado/Sales_CSV/200611.csv'),\n",
       " WindowsPath('C:/Users/benito/Documents/Git/curso-pandas-public/00 - datasets/data/Anexado/Sales_CSV/200612.csv'),\n",
       " WindowsPath('C:/Users/benito/Documents/Git/curso-pandas-public/00 - datasets/data/Anexado/Sales_CSV/200701.csv'),\n",
       " WindowsPath('C:/Users/benito/Documents/Git/curso-pandas-public/00 - datasets/data/Anexado/Sales_CSV/200702.csv'),\n",
       " WindowsPath('C:/Users/benito/Documents/Git/curso-pandas-public/00 - datasets/data/Anexado/Sales_CSV/200703.csv'),\n",
       " WindowsPath('C:/Users/benito/Documents/Git/curso-pandas-public/00 - datasets/data/Anexado/Sales_CSV/200704.csv'),\n",
       " WindowsPath('C:/Users/benito/Documents/Git/curso-pandas-public/00 - datasets/data/Anexado/Sales_CSV/200705.csv'),\n",
       " WindowsPath('C:/Users/benito/Documents/Git/curso-pandas-public/00 - datasets/data/Anexado/Sales_CSV/200706.csv'),\n",
       " WindowsPath('C:/Users/benito/Documents/Git/curso-pandas-public/00 - datasets/data/Anexado/Sales_CSV/200707.csv'),\n",
       " WindowsPath('C:/Users/benito/Documents/Git/curso-pandas-public/00 - datasets/data/Anexado/Sales_CSV/200708.csv'),\n",
       " WindowsPath('C:/Users/benito/Documents/Git/curso-pandas-public/00 - datasets/data/Anexado/Sales_CSV/200709.csv'),\n",
       " WindowsPath('C:/Users/benito/Documents/Git/curso-pandas-public/00 - datasets/data/Anexado/Sales_CSV/200710.csv'),\n",
       " WindowsPath('C:/Users/benito/Documents/Git/curso-pandas-public/00 - datasets/data/Anexado/Sales_CSV/200711.csv'),\n",
       " WindowsPath('C:/Users/benito/Documents/Git/curso-pandas-public/00 - datasets/data/Anexado/Sales_CSV/200712.csv'),\n",
       " WindowsPath('C:/Users/benito/Documents/Git/curso-pandas-public/00 - datasets/data/Anexado/Sales_CSV/200801.csv'),\n",
       " WindowsPath('C:/Users/benito/Documents/Git/curso-pandas-public/00 - datasets/data/Anexado/Sales_CSV/200802.csv'),\n",
       " WindowsPath('C:/Users/benito/Documents/Git/curso-pandas-public/00 - datasets/data/Anexado/Sales_CSV/200803.csv'),\n",
       " WindowsPath('C:/Users/benito/Documents/Git/curso-pandas-public/00 - datasets/data/Anexado/Sales_CSV/200804.csv'),\n",
       " WindowsPath('C:/Users/benito/Documents/Git/curso-pandas-public/00 - datasets/data/Anexado/Sales_CSV/200805.csv'),\n",
       " WindowsPath('C:/Users/benito/Documents/Git/curso-pandas-public/00 - datasets/data/Anexado/Sales_CSV/200806.csv'),\n",
       " WindowsPath('C:/Users/benito/Documents/Git/curso-pandas-public/00 - datasets/data/Anexado/Sales_CSV/200807.csv'),\n",
       " WindowsPath('C:/Users/benito/Documents/Git/curso-pandas-public/00 - datasets/data/Anexado/Sales_CSV/200808.csv'),\n",
       " WindowsPath('C:/Users/benito/Documents/Git/curso-pandas-public/00 - datasets/data/Anexado/Sales_CSV/200809.csv'),\n",
       " WindowsPath('C:/Users/benito/Documents/Git/curso-pandas-public/00 - datasets/data/Anexado/Sales_CSV/200810.csv'),\n",
       " WindowsPath('C:/Users/benito/Documents/Git/curso-pandas-public/00 - datasets/data/Anexado/Sales_CSV/200811.csv'),\n",
       " WindowsPath('C:/Users/benito/Documents/Git/curso-pandas-public/00 - datasets/data/Anexado/Sales_CSV/200812.csv'),\n",
       " WindowsPath('C:/Users/benito/Documents/Git/curso-pandas-public/00 - datasets/datasets/haiti/Haiti.csv'),\n",
       " WindowsPath('C:/Users/benito/Documents/Git/curso-pandas-public/00 - datasets/datasets/titanic/genderclassmodel.csv'),\n",
       " WindowsPath('C:/Users/benito/Documents/Git/curso-pandas-public/00 - datasets/datasets/titanic/gendermodel.csv'),\n",
       " WindowsPath('C:/Users/benito/Documents/Git/curso-pandas-public/00 - datasets/datasets/titanic/test.csv'),\n",
       " WindowsPath('C:/Users/benito/Documents/Git/curso-pandas-public/00 - datasets/datasets/titanic/train.csv'),\n",
       " WindowsPath('C:/Users/benito/Documents/Git/curso-pandas-public/00 - datasets/FoodMart/Calendar-Lookup.csv'),\n",
       " WindowsPath('C:/Users/benito/Documents/Git/curso-pandas-public/00 - datasets/FoodMart/Customer-Lookup.csv'),\n",
       " WindowsPath('C:/Users/benito/Documents/Git/curso-pandas-public/00 - datasets/FoodMart/FoodMart-Returns-1997-1998.csv'),\n",
       " WindowsPath('C:/Users/benito/Documents/Git/curso-pandas-public/00 - datasets/FoodMart/FoodMart-Transactions-1997.csv'),\n",
       " WindowsPath('C:/Users/benito/Documents/Git/curso-pandas-public/00 - datasets/FoodMart/FoodMart-Transactions-1998.csv'),\n",
       " WindowsPath('C:/Users/benito/Documents/Git/curso-pandas-public/00 - datasets/FoodMart/Product-Lookup.csv'),\n",
       " WindowsPath('C:/Users/benito/Documents/Git/curso-pandas-public/00 - datasets/FoodMart/Region-Lookup.csv'),\n",
       " WindowsPath('C:/Users/benito/Documents/Git/curso-pandas-public/00 - datasets/FoodMart/Store-Lookup.csv'),\n",
       " WindowsPath('C:/Users/benito/Documents/Git/curso-pandas-public/00 - datasets/otros/50_Startups.csv'),\n",
       " WindowsPath('C:/Users/benito/Documents/Git/curso-pandas-public/00 - datasets/otros/Ads_CTR_Optimisation.csv'),\n",
       " WindowsPath('C:/Users/benito/Documents/Git/curso-pandas-public/00 - datasets/otros/Churn_Modelling.csv'),\n",
       " WindowsPath('C:/Users/benito/Documents/Git/curso-pandas-public/00 - datasets/otros/Mall_Customers.csv'),\n",
       " WindowsPath('C:/Users/benito/Documents/Git/curso-pandas-public/00 - datasets/otros/Market_Basket_Optimisation.csv'),\n",
       " WindowsPath('C:/Users/benito/Documents/Git/curso-pandas-public/00 - datasets/otros/Position_Salaries.csv'),\n",
       " WindowsPath('C:/Users/benito/Documents/Git/curso-pandas-public/00 - datasets/otros/Salary_Data.csv'),\n",
       " WindowsPath('C:/Users/benito/Documents/Git/curso-pandas-public/00 - datasets/otros/Social_Network_Ads.csv'),\n",
       " WindowsPath('C:/Users/benito/Documents/Git/curso-pandas-public/00 - datasets/otros/Wine.csv')]"
      ]
     },
     "execution_count": 43,
     "metadata": {},
     "output_type": "execute_result"
    }
   ],
   "source": [
    "list(local.rglob('*.csv'))"
   ]
  },
  {
   "cell_type": "code",
   "execution_count": null,
   "metadata": {
    "collapsed": true
   },
   "outputs": [],
   "source": [
    "d"
   ]
  },
  {
   "cell_type": "code",
   "execution_count": 20,
   "metadata": {},
   "outputs": [],
   "source": [
    "fichero = local / '00 - datasets/' / 'iris.csv'"
   ]
  },
  {
   "cell_type": "code",
   "execution_count": 23,
   "metadata": {},
   "outputs": [
    {
     "data": {
      "text/plain": [
       "True"
      ]
     },
     "execution_count": 23,
     "metadata": {},
     "output_type": "execute_result"
    }
   ],
   "source": [
    "fichero.exists()"
   ]
  },
  {
   "cell_type": "code",
   "execution_count": 24,
   "metadata": {},
   "outputs": [
    {
     "data": {
      "text/plain": [
       "False"
      ]
     },
     "execution_count": 24,
     "metadata": {},
     "output_type": "execute_result"
    }
   ],
   "source": [
    "fichero.is_dir()"
   ]
  },
  {
   "cell_type": "code",
   "execution_count": 25,
   "metadata": {},
   "outputs": [
    {
     "data": {
      "text/plain": [
       "True"
      ]
     },
     "execution_count": 25,
     "metadata": {},
     "output_type": "execute_result"
    }
   ],
   "source": [
    "fichero.is_file()"
   ]
  },
  {
   "cell_type": "code",
   "execution_count": 31,
   "metadata": {},
   "outputs": [
    {
     "data": {
      "text/plain": [
       "'Sat Dec 19 18:44:30 2020'"
      ]
     },
     "execution_count": 31,
     "metadata": {},
     "output_type": "execute_result"
    }
   ],
   "source": [
    "import time\n",
    "time.ctime(fichero.stat().st_mtime)"
   ]
  },
  {
   "cell_type": "code",
   "execution_count": 32,
   "metadata": {},
   "outputs": [
    {
     "data": {
      "text/plain": [
       "('C:\\\\',\n",
       " 'Users',\n",
       " 'benito',\n",
       " 'Documents',\n",
       " 'Git',\n",
       " 'curso-pandas-public',\n",
       " '00 - datasets',\n",
       " 'iris.csv')"
      ]
     },
     "execution_count": 32,
     "metadata": {},
     "output_type": "execute_result"
    }
   ],
   "source": [
    "fichero.parts"
   ]
  },
  {
   "cell_type": "code",
   "execution_count": 33,
   "metadata": {},
   "outputs": [
    {
     "data": {
      "text/plain": [
       "'.csv'"
      ]
     },
     "execution_count": 33,
     "metadata": {},
     "output_type": "execute_result"
    }
   ],
   "source": [
    "fichero.suffix"
   ]
  },
  {
   "cell_type": "code",
   "execution_count": 35,
   "metadata": {},
   "outputs": [
    {
     "data": {
      "text/plain": [
       "[WindowsPath('C:/Users/benito/Documents/Git/curso-pandas-public/00 - datasets'),\n",
       " WindowsPath('C:/Users/benito/Documents/Git/curso-pandas-public'),\n",
       " WindowsPath('C:/Users/benito/Documents/Git'),\n",
       " WindowsPath('C:/Users/benito/Documents'),\n",
       " WindowsPath('C:/Users/benito'),\n",
       " WindowsPath('C:/Users'),\n",
       " WindowsPath('C:/')]"
      ]
     },
     "execution_count": 35,
     "metadata": {},
     "output_type": "execute_result"
    }
   ],
   "source": [
    "list(fichero.parents)"
   ]
  },
  {
   "cell_type": "code",
   "execution_count": 37,
   "metadata": {},
   "outputs": [
    {
     "data": {
      "text/plain": [
       "WindowsPath('C:/Users/benito/Documents/Git/curso-pandas-public/00 - datasets/iris.csv')"
      ]
     },
     "execution_count": 37,
     "metadata": {},
     "output_type": "execute_result"
    }
   ],
   "source": [
    "fichero.absolute()"
   ]
  },
  {
   "cell_type": "code",
   "execution_count": 38,
   "metadata": {},
   "outputs": [
    {
     "data": {
      "text/plain": [
       "'file:///C:/Users/benito/Documents/Git/curso-pandas-public/00%20-%20datasets/iris.csv'"
      ]
     },
     "execution_count": 38,
     "metadata": {},
     "output_type": "execute_result"
    }
   ],
   "source": [
    "fichero.as_uri()"
   ]
  },
  {
   "cell_type": "code",
   "execution_count": null,
   "metadata": {},
   "outputs": [],
   "source": []
  }
 ],
 "metadata": {
  "kernelspec": {
   "display_name": "Python 3",
   "language": "python",
   "name": "python3"
  },
  "language_info": {
   "codemirror_mode": {
    "name": "ipython",
    "version": 3
   },
   "file_extension": ".py",
   "mimetype": "text/x-python",
   "name": "python",
   "nbconvert_exporter": "python",
   "pygments_lexer": "ipython3",
   "version": "3.10.12"
  },
  "toc": {
   "base_numbering": 1,
   "nav_menu": {},
   "number_sections": true,
   "sideBar": true,
   "skip_h1_title": true,
   "title_cell": "Índice",
   "title_sidebar": "Contents",
   "toc_cell": false,
   "toc_position": {},
   "toc_section_display": true,
   "toc_window_display": true
  }
 },
 "nbformat": 4,
 "nbformat_minor": 4
}
