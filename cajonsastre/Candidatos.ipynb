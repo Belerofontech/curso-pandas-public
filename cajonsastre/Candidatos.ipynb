{
 "cells": [
  {
   "cell_type": "markdown",
   "metadata": {},
   "source": [
    "# Análisis de aportaciones a candidatos a presidente"
   ]
  },
  {
   "cell_type": "markdown",
   "metadata": {},
   "source": [
    "## Toma de datos"
   ]
  },
  {
   "cell_type": "code",
   "execution_count": 60,
   "metadata": {},
   "outputs": [],
   "source": [
    "import numpy as np\n",
    "import pandas as pd \n",
    "import sidetable\n",
    "from pathlib import Path \n",
    "import qgrid\n",
    "pd.options.display.float_format = '{:,.2f}'.format"
   ]
  },
  {
   "cell_type": "code",
   "execution_count": 20,
   "metadata": {},
   "outputs": [],
   "source": [
    "ruta = Path.cwd() / '00 - datasets' / 'datasets' / 'fec' / 'P00000001-ALL.csv'\n",
    "fec=pd.read_csv(ruta, low_memory=False)"
   ]
  },
  {
   "cell_type": "code",
   "execution_count": 3,
   "metadata": {},
   "outputs": [
    {
     "data": {
      "text/html": [
       "<div>\n",
       "<style scoped>\n",
       "    .dataframe tbody tr th:only-of-type {\n",
       "        vertical-align: middle;\n",
       "    }\n",
       "\n",
       "    .dataframe tbody tr th {\n",
       "        vertical-align: top;\n",
       "    }\n",
       "\n",
       "    .dataframe thead th {\n",
       "        text-align: right;\n",
       "    }\n",
       "</style>\n",
       "<table border=\"1\" class=\"dataframe\">\n",
       "  <thead>\n",
       "    <tr style=\"text-align: right;\">\n",
       "      <th></th>\n",
       "      <th>cand_nm</th>\n",
       "      <th>count</th>\n",
       "      <th>percent</th>\n",
       "      <th>cumulative_count</th>\n",
       "      <th>cumulative_percent</th>\n",
       "    </tr>\n",
       "  </thead>\n",
       "  <tbody>\n",
       "    <tr>\n",
       "      <th>0</th>\n",
       "      <td>Obama, Barack</td>\n",
       "      <td>593746</td>\n",
       "      <td>59.272000</td>\n",
       "      <td>593746</td>\n",
       "      <td>59.272000</td>\n",
       "    </tr>\n",
       "    <tr>\n",
       "      <th>1</th>\n",
       "      <td>Paul, Ron</td>\n",
       "      <td>143757</td>\n",
       "      <td>14.350859</td>\n",
       "      <td>737503</td>\n",
       "      <td>73.622859</td>\n",
       "    </tr>\n",
       "    <tr>\n",
       "      <th>2</th>\n",
       "      <td>Romney, Mitt</td>\n",
       "      <td>107229</td>\n",
       "      <td>10.704371</td>\n",
       "      <td>844732</td>\n",
       "      <td>84.327230</td>\n",
       "    </tr>\n",
       "    <tr>\n",
       "      <th>3</th>\n",
       "      <td>Gingrich, Newt</td>\n",
       "      <td>47679</td>\n",
       "      <td>4.759661</td>\n",
       "      <td>892411</td>\n",
       "      <td>89.086891</td>\n",
       "    </tr>\n",
       "    <tr>\n",
       "      <th>4</th>\n",
       "      <td>Santorum, Rick</td>\n",
       "      <td>46559</td>\n",
       "      <td>4.647855</td>\n",
       "      <td>938970</td>\n",
       "      <td>93.734745</td>\n",
       "    </tr>\n",
       "    <tr>\n",
       "      <th>5</th>\n",
       "      <td>Cain, Herman</td>\n",
       "      <td>20107</td>\n",
       "      <td>2.007225</td>\n",
       "      <td>959077</td>\n",
       "      <td>95.741971</td>\n",
       "    </tr>\n",
       "    <tr>\n",
       "      <th>6</th>\n",
       "      <td>Perry, Rick</td>\n",
       "      <td>13575</td>\n",
       "      <td>1.355154</td>\n",
       "      <td>972652</td>\n",
       "      <td>97.097125</td>\n",
       "    </tr>\n",
       "    <tr>\n",
       "      <th>7</th>\n",
       "      <td>Bachmann, Michelle</td>\n",
       "      <td>13140</td>\n",
       "      <td>1.311729</td>\n",
       "      <td>985792</td>\n",
       "      <td>98.408854</td>\n",
       "    </tr>\n",
       "    <tr>\n",
       "      <th>8</th>\n",
       "      <td>Roemer, Charles E. 'Buddy' III</td>\n",
       "      <td>5920</td>\n",
       "      <td>0.590977</td>\n",
       "      <td>991712</td>\n",
       "      <td>98.999831</td>\n",
       "    </tr>\n",
       "    <tr>\n",
       "      <th>9</th>\n",
       "      <td>Pawlenty, Timothy</td>\n",
       "      <td>4555</td>\n",
       "      <td>0.454713</td>\n",
       "      <td>996267</td>\n",
       "      <td>99.454544</td>\n",
       "    </tr>\n",
       "    <tr>\n",
       "      <th>10</th>\n",
       "      <td>Huntsman, Jon</td>\n",
       "      <td>4156</td>\n",
       "      <td>0.414882</td>\n",
       "      <td>1000423</td>\n",
       "      <td>99.869426</td>\n",
       "    </tr>\n",
       "    <tr>\n",
       "      <th>11</th>\n",
       "      <td>Johnson, Gary Earl</td>\n",
       "      <td>1234</td>\n",
       "      <td>0.123187</td>\n",
       "      <td>1001657</td>\n",
       "      <td>99.992613</td>\n",
       "    </tr>\n",
       "    <tr>\n",
       "      <th>12</th>\n",
       "      <td>McCotter, Thaddeus G</td>\n",
       "      <td>74</td>\n",
       "      <td>0.007387</td>\n",
       "      <td>1001731</td>\n",
       "      <td>100.000000</td>\n",
       "    </tr>\n",
       "  </tbody>\n",
       "</table>\n",
       "</div>"
      ],
      "text/plain": [
       "                           cand_nm   count    percent  cumulative_count  \\\n",
       "0                    Obama, Barack  593746  59.272000            593746   \n",
       "1                        Paul, Ron  143757  14.350859            737503   \n",
       "2                     Romney, Mitt  107229  10.704371            844732   \n",
       "3                   Gingrich, Newt   47679   4.759661            892411   \n",
       "4                   Santorum, Rick   46559   4.647855            938970   \n",
       "5                     Cain, Herman   20107   2.007225            959077   \n",
       "6                      Perry, Rick   13575   1.355154            972652   \n",
       "7               Bachmann, Michelle   13140   1.311729            985792   \n",
       "8   Roemer, Charles E. 'Buddy' III    5920   0.590977            991712   \n",
       "9                Pawlenty, Timothy    4555   0.454713            996267   \n",
       "10                   Huntsman, Jon    4156   0.414882           1000423   \n",
       "11              Johnson, Gary Earl    1234   0.123187           1001657   \n",
       "12            McCotter, Thaddeus G      74   0.007387           1001731   \n",
       "\n",
       "    cumulative_percent  \n",
       "0            59.272000  \n",
       "1            73.622859  \n",
       "2            84.327230  \n",
       "3            89.086891  \n",
       "4            93.734745  \n",
       "5            95.741971  \n",
       "6            97.097125  \n",
       "7            98.408854  \n",
       "8            98.999831  \n",
       "9            99.454544  \n",
       "10           99.869426  \n",
       "11           99.992613  \n",
       "12          100.000000  "
      ]
     },
     "execution_count": 3,
     "metadata": {},
     "output_type": "execute_result"
    }
   ],
   "source": [
    "fec.stb.freq(['cand_nm'])"
   ]
  },
  {
   "cell_type": "markdown",
   "metadata": {},
   "source": [
    "# ETL"
   ]
  },
  {
   "cell_type": "code",
   "execution_count": 4,
   "metadata": {},
   "outputs": [
    {
     "data": {
      "text/plain": [
       "array(['Bachmann, Michelle', 'Romney, Mitt', 'Obama, Barack',\n",
       "       \"Roemer, Charles E. 'Buddy' III\", 'Pawlenty, Timothy',\n",
       "       'Johnson, Gary Earl', 'Paul, Ron', 'Santorum, Rick',\n",
       "       'Cain, Herman', 'Gingrich, Newt', 'McCotter, Thaddeus G',\n",
       "       'Huntsman, Jon', 'Perry, Rick'], dtype=object)"
      ]
     },
     "execution_count": 4,
     "metadata": {},
     "output_type": "execute_result"
    }
   ],
   "source": [
    "# Extraigo candidatos únicos\n",
    "candidatos = fec['cand_nm'].unique()\n",
    "candidatos"
   ]
  },
  {
   "cell_type": "code",
   "execution_count": 21,
   "metadata": {},
   "outputs": [
    {
     "data": {
      "text/plain": [
       "{'Bachmann, Michelle': 'Republican',\n",
       " 'Romney, Mitt': 'Republican',\n",
       " 'Obama, Barack': 'Democrat',\n",
       " \"Roemer, Charles E. 'Buddy' III\": 'Republican',\n",
       " 'Pawlenty, Timothy': 'Republican',\n",
       " 'Johnson, Gary Earl': 'Republican',\n",
       " 'Paul, Ron': 'Republican',\n",
       " 'Santorum, Rick': 'Republican',\n",
       " 'Cain, Herman': 'Republican',\n",
       " 'Gingrich, Newt': 'Republican',\n",
       " 'McCotter, Thaddeus G': 'Republican',\n",
       " 'Huntsman, Jon': 'Republican',\n",
       " 'Perry, Rick': 'Republican'}"
      ]
     },
     "execution_count": 21,
     "metadata": {},
     "output_type": "execute_result"
    }
   ],
   "source": [
    "# creo un diccionario de partidos\n",
    "partidos = {x: 'Republican' for x in candidatos}\n",
    "partidos['Obama, Barack'] = 'Democrat'\n",
    "partidos"
   ]
  },
  {
   "cell_type": "code",
   "execution_count": 22,
   "metadata": {},
   "outputs": [
    {
     "data": {
      "text/plain": [
       "Democrat      593746\n",
       "Republican    407985\n",
       "Name: party, dtype: int64"
      ]
     },
     "execution_count": 22,
     "metadata": {},
     "output_type": "execute_result"
    }
   ],
   "source": [
    "# Aplico map para obtener los partidos de los candidatos y genero salida\n",
    "fec['party'] = fec['cand_nm'].map(partidos)\n",
    "fec['party'].value_counts()"
   ]
  },
  {
   "cell_type": "code",
   "execution_count": 7,
   "metadata": {},
   "outputs": [
    {
     "data": {
      "text/html": [
       "<div>\n",
       "<style scoped>\n",
       "    .dataframe tbody tr th:only-of-type {\n",
       "        vertical-align: middle;\n",
       "    }\n",
       "\n",
       "    .dataframe tbody tr th {\n",
       "        vertical-align: top;\n",
       "    }\n",
       "\n",
       "    .dataframe thead th {\n",
       "        text-align: right;\n",
       "    }\n",
       "</style>\n",
       "<table border=\"1\" class=\"dataframe\">\n",
       "  <thead>\n",
       "    <tr style=\"text-align: right;\">\n",
       "      <th></th>\n",
       "      <th>contb_receipt_amt</th>\n",
       "      <th>count</th>\n",
       "      <th>percent</th>\n",
       "      <th>cumulative_count</th>\n",
       "      <th>cumulative_percent</th>\n",
       "    </tr>\n",
       "  </thead>\n",
       "  <tbody>\n",
       "    <tr>\n",
       "      <th>0</th>\n",
       "      <td>100.0</td>\n",
       "      <td>178188</td>\n",
       "      <td>17.788009</td>\n",
       "      <td>178188</td>\n",
       "      <td>17.788009</td>\n",
       "    </tr>\n",
       "    <tr>\n",
       "      <th>1</th>\n",
       "      <td>50.0</td>\n",
       "      <td>137584</td>\n",
       "      <td>13.734625</td>\n",
       "      <td>315772</td>\n",
       "      <td>31.522634</td>\n",
       "    </tr>\n",
       "    <tr>\n",
       "      <th>2</th>\n",
       "      <td>25.0</td>\n",
       "      <td>110345</td>\n",
       "      <td>11.015432</td>\n",
       "      <td>426117</td>\n",
       "      <td>42.538067</td>\n",
       "    </tr>\n",
       "    <tr>\n",
       "      <th>3</th>\n",
       "      <td>250.0</td>\n",
       "      <td>91182</td>\n",
       "      <td>9.102444</td>\n",
       "      <td>517299</td>\n",
       "      <td>51.640510</td>\n",
       "    </tr>\n",
       "    <tr>\n",
       "      <th>4</th>\n",
       "      <td>500.0</td>\n",
       "      <td>57984</td>\n",
       "      <td>5.788380</td>\n",
       "      <td>575283</td>\n",
       "      <td>57.428891</td>\n",
       "    </tr>\n",
       "    <tr>\n",
       "      <th>...</th>\n",
       "      <td>...</td>\n",
       "      <td>...</td>\n",
       "      <td>...</td>\n",
       "      <td>...</td>\n",
       "      <td>...</td>\n",
       "    </tr>\n",
       "    <tr>\n",
       "      <th>8074</th>\n",
       "      <td>-5455.0</td>\n",
       "      <td>1</td>\n",
       "      <td>0.000100</td>\n",
       "      <td>1001727</td>\n",
       "      <td>99.999601</td>\n",
       "    </tr>\n",
       "    <tr>\n",
       "      <th>8075</th>\n",
       "      <td>-5500.0</td>\n",
       "      <td>1</td>\n",
       "      <td>0.000100</td>\n",
       "      <td>1001728</td>\n",
       "      <td>99.999701</td>\n",
       "    </tr>\n",
       "    <tr>\n",
       "      <th>8076</th>\n",
       "      <td>-7500.0</td>\n",
       "      <td>1</td>\n",
       "      <td>0.000100</td>\n",
       "      <td>1001729</td>\n",
       "      <td>99.999800</td>\n",
       "    </tr>\n",
       "    <tr>\n",
       "      <th>8077</th>\n",
       "      <td>-25800.0</td>\n",
       "      <td>1</td>\n",
       "      <td>0.000100</td>\n",
       "      <td>1001730</td>\n",
       "      <td>99.999900</td>\n",
       "    </tr>\n",
       "    <tr>\n",
       "      <th>8078</th>\n",
       "      <td>-30800.0</td>\n",
       "      <td>1</td>\n",
       "      <td>0.000100</td>\n",
       "      <td>1001731</td>\n",
       "      <td>100.000000</td>\n",
       "    </tr>\n",
       "  </tbody>\n",
       "</table>\n",
       "<p>8079 rows × 5 columns</p>\n",
       "</div>"
      ],
      "text/plain": [
       "      contb_receipt_amt   count    percent  cumulative_count  \\\n",
       "0                 100.0  178188  17.788009            178188   \n",
       "1                  50.0  137584  13.734625            315772   \n",
       "2                  25.0  110345  11.015432            426117   \n",
       "3                 250.0   91182   9.102444            517299   \n",
       "4                 500.0   57984   5.788380            575283   \n",
       "...                 ...     ...        ...               ...   \n",
       "8074            -5455.0       1   0.000100           1001727   \n",
       "8075            -5500.0       1   0.000100           1001728   \n",
       "8076            -7500.0       1   0.000100           1001729   \n",
       "8077           -25800.0       1   0.000100           1001730   \n",
       "8078           -30800.0       1   0.000100           1001731   \n",
       "\n",
       "      cumulative_percent  \n",
       "0              17.788009  \n",
       "1              31.522634  \n",
       "2              42.538067  \n",
       "3              51.640510  \n",
       "4              57.428891  \n",
       "...                  ...  \n",
       "8074           99.999601  \n",
       "8075           99.999701  \n",
       "8076           99.999800  \n",
       "8077           99.999900  \n",
       "8078          100.000000  \n",
       "\n",
       "[8079 rows x 5 columns]"
      ]
     },
     "execution_count": 7,
     "metadata": {},
     "output_type": "execute_result"
    }
   ],
   "source": [
    "# Detecto importes negativos en las contribuciones que debieramos filtrar\n",
    "fec.stb.freq(['contb_receipt_amt'])"
   ]
  },
  {
   "cell_type": "code",
   "execution_count": 8,
   "metadata": {},
   "outputs": [
    {
     "data": {
      "text/plain": [
       "(1001731, 17)"
      ]
     },
     "execution_count": 8,
     "metadata": {},
     "output_type": "execute_result"
    }
   ],
   "source": [
    "# Centramos el analisis en Obama y Romney\n",
    "fec.shape"
   ]
  },
  {
   "cell_type": "code",
   "execution_count": 30,
   "metadata": {},
   "outputs": [
    {
     "data": {
      "text/plain": [
       "(696356, 17)"
      ]
     },
     "execution_count": 30,
     "metadata": {},
     "output_type": "execute_result"
    }
   ],
   "source": [
    "fec_obrm = fec.query('contb_receipt_amt > 0 and cand_nm==\"Obama, Barack\" or cand_nm==\"Romney, Mitt\"')\n",
    "fec_obrm.shape"
   ]
  },
  {
   "cell_type": "markdown",
   "metadata": {},
   "source": [
    "## Estadisticas por ocupación y empresa"
   ]
  },
  {
   "cell_type": "code",
   "execution_count": 10,
   "metadata": {},
   "outputs": [
    {
     "data": {
      "text/plain": [
       "Index(['cmte_id', 'cand_id', 'cand_nm', 'contbr_nm', 'contbr_city',\n",
       "       'contbr_st', 'contbr_zip', 'contbr_employer', 'contbr_occupation',\n",
       "       'contb_receipt_amt', 'contb_receipt_dt', 'receipt_desc', 'memo_cd',\n",
       "       'memo_text', 'form_tp', 'file_num', 'party'],\n",
       "      dtype='object')"
      ]
     },
     "execution_count": 10,
     "metadata": {},
     "output_type": "execute_result"
    }
   ],
   "source": [
    "fec_obrm.columns"
   ]
  },
  {
   "cell_type": "code",
   "execution_count": 85,
   "metadata": {},
   "outputs": [
    {
     "data": {
      "text/plain": [
       "RETIRED                                   177652\n",
       "ATTORNEY                                   30180\n",
       "INFORMATION REQUESTED                      24747\n",
       "HOMEMAKER                                  19710\n",
       "PHYSICIAN                                  17235\n",
       "INFORMATION REQUESTED PER BEST EFFORTS     12647\n",
       "PROFESSOR                                  11805\n",
       "TEACHER                                    11513\n",
       "CONSULTANT                                 10079\n",
       "NOT EMPLOYED                                9696\n",
       "LAWYER                                      7438\n",
       "ENGINEER                                    6112\n",
       "PRESIDENT                                   4911\n",
       "MANAGER                                     4753\n",
       "WRITER                                      4442\n",
       "SELF-EMPLOYED                               3780\n",
       "SALES                                       3702\n",
       "EXECUTIVE                                   3648\n",
       "OWNER                                       3425\n",
       "EDUCATOR                                    3360\n",
       "Name: contbr_occupation, dtype: int64"
      ]
     },
     "execution_count": 85,
     "metadata": {},
     "output_type": "execute_result"
    }
   ],
   "source": [
    "fec_obrm['contbr_occupation'].value_counts().nlargest(20)"
   ]
  },
  {
   "cell_type": "code",
   "execution_count": 12,
   "metadata": {},
   "outputs": [
    {
     "data": {
      "text/plain": [
       "RETIRED                                   177652\n",
       "ATTORNEY                                   30180\n",
       "INFORMATION REQUESTED                      24747\n",
       "HOMEMAKER                                  19710\n",
       "PHYSICIAN                                  17235\n",
       "INFORMATION REQUESTED PER BEST EFFORTS     12647\n",
       "PROFESSOR                                  11805\n",
       "TEACHER                                    11513\n",
       "CONSULTANT                                 10079\n",
       "NOT EMPLOYED                                9696\n",
       "Name: contbr_occupation, dtype: int64"
      ]
     },
     "execution_count": 12,
     "metadata": {},
     "output_type": "execute_result"
    }
   ],
   "source": [
    "fec_obrm.contbr_occupation.value_counts()[:10]"
   ]
  },
  {
   "cell_type": "code",
   "execution_count": 13,
   "metadata": {},
   "outputs": [
    {
     "data": {
      "text/plain": [
       "contbr_occupation\n",
       "RETIRED                                   36572065.61\n",
       "ATTORNEY                                  16444561.79\n",
       "HOMEMAKER                                 12286126.66\n",
       "INFORMATION REQUESTED PER BEST EFFORTS    11173374.84\n",
       "PHYSICIAN                                  5068121.28\n",
       "                                             ...     \n",
       "AFFORDABLE REAL ESTATE DEVELOPER                 3.00\n",
       "LAN/WAN ANALYST                                  3.00\n",
       "VICE PRESIDENT OF ADVANCEMENT/PHILANTH           0.00\n",
       "MUSCULER THERAPIST                               0.00\n",
       "SURGERY SCHEDULER                                0.00\n",
       "Name: contb_receipt_amt, Length: 33603, dtype: float64"
      ]
     },
     "execution_count": 13,
     "metadata": {},
     "output_type": "execute_result"
    }
   ],
   "source": [
    "fec_obrm.groupby(['contbr_occupation'])['contb_receipt_amt'].sum().sort_values(ascending=False)"
   ]
  },
  {
   "cell_type": "code",
   "execution_count": 14,
   "metadata": {},
   "outputs": [
    {
     "data": {
      "text/html": [
       "<div>\n",
       "<style scoped>\n",
       "    .dataframe tbody tr th:only-of-type {\n",
       "        vertical-align: middle;\n",
       "    }\n",
       "\n",
       "    .dataframe tbody tr th {\n",
       "        vertical-align: top;\n",
       "    }\n",
       "\n",
       "    .dataframe thead th {\n",
       "        text-align: right;\n",
       "    }\n",
       "</style>\n",
       "<table border=\"1\" class=\"dataframe\">\n",
       "  <thead>\n",
       "    <tr style=\"text-align: right;\">\n",
       "      <th></th>\n",
       "      <th>cmte_id</th>\n",
       "      <th>cand_id</th>\n",
       "      <th>cand_nm</th>\n",
       "      <th>contbr_nm</th>\n",
       "      <th>contbr_city</th>\n",
       "      <th>contbr_st</th>\n",
       "      <th>contbr_zip</th>\n",
       "      <th>contbr_employer</th>\n",
       "      <th>contbr_occupation</th>\n",
       "      <th>contb_receipt_amt</th>\n",
       "      <th>contb_receipt_dt</th>\n",
       "      <th>receipt_desc</th>\n",
       "      <th>memo_cd</th>\n",
       "      <th>memo_text</th>\n",
       "      <th>form_tp</th>\n",
       "      <th>file_num</th>\n",
       "      <th>party</th>\n",
       "    </tr>\n",
       "  </thead>\n",
       "  <tbody>\n",
       "    <tr>\n",
       "      <th>411</th>\n",
       "      <td>C00431171</td>\n",
       "      <td>P80003353</td>\n",
       "      <td>Romney, Mitt</td>\n",
       "      <td>ELDERBAUM, WILLIAM</td>\n",
       "      <td>DPO</td>\n",
       "      <td>AA</td>\n",
       "      <td>340230183</td>\n",
       "      <td>US GOVERNMENT</td>\n",
       "      <td>FOREIGN SERVICE OFFICER</td>\n",
       "      <td>25.0</td>\n",
       "      <td>01-FEB-12</td>\n",
       "      <td>NaN</td>\n",
       "      <td>NaN</td>\n",
       "      <td>NaN</td>\n",
       "      <td>SA17A</td>\n",
       "      <td>780124</td>\n",
       "      <td>Republican</td>\n",
       "    </tr>\n",
       "    <tr>\n",
       "      <th>412</th>\n",
       "      <td>C00431171</td>\n",
       "      <td>P80003353</td>\n",
       "      <td>Romney, Mitt</td>\n",
       "      <td>ELDERBAUM, WILLIAM</td>\n",
       "      <td>DPO</td>\n",
       "      <td>AA</td>\n",
       "      <td>340230183</td>\n",
       "      <td>US GOVERNMENT</td>\n",
       "      <td>FOREIGN SERVICE OFFICER</td>\n",
       "      <td>110.0</td>\n",
       "      <td>01-FEB-12</td>\n",
       "      <td>NaN</td>\n",
       "      <td>NaN</td>\n",
       "      <td>NaN</td>\n",
       "      <td>SA17A</td>\n",
       "      <td>780124</td>\n",
       "      <td>Republican</td>\n",
       "    </tr>\n",
       "    <tr>\n",
       "      <th>413</th>\n",
       "      <td>C00431171</td>\n",
       "      <td>P80003353</td>\n",
       "      <td>Romney, Mitt</td>\n",
       "      <td>CARLSEN, RICHARD</td>\n",
       "      <td>APO</td>\n",
       "      <td>AE</td>\n",
       "      <td>091280020</td>\n",
       "      <td>DEFENSE INTELLIGENCE AGENCY</td>\n",
       "      <td>INTELLIGENCE ANALYST</td>\n",
       "      <td>250.0</td>\n",
       "      <td>13-APR-12</td>\n",
       "      <td>NaN</td>\n",
       "      <td>NaN</td>\n",
       "      <td>NaN</td>\n",
       "      <td>SA17A</td>\n",
       "      <td>785689</td>\n",
       "      <td>Republican</td>\n",
       "    </tr>\n",
       "    <tr>\n",
       "      <th>414</th>\n",
       "      <td>C00431171</td>\n",
       "      <td>P80003353</td>\n",
       "      <td>Romney, Mitt</td>\n",
       "      <td>DELUCA, PIERRE</td>\n",
       "      <td>APO</td>\n",
       "      <td>AE</td>\n",
       "      <td>091280005</td>\n",
       "      <td>CISCO</td>\n",
       "      <td>ENGINEER</td>\n",
       "      <td>30.0</td>\n",
       "      <td>21-AUG-11</td>\n",
       "      <td>NaN</td>\n",
       "      <td>NaN</td>\n",
       "      <td>NaN</td>\n",
       "      <td>SA17A</td>\n",
       "      <td>760261</td>\n",
       "      <td>Republican</td>\n",
       "    </tr>\n",
       "    <tr>\n",
       "      <th>415</th>\n",
       "      <td>C00431171</td>\n",
       "      <td>P80003353</td>\n",
       "      <td>Romney, Mitt</td>\n",
       "      <td>SARGENT, MICHAEL</td>\n",
       "      <td>APO</td>\n",
       "      <td>AE</td>\n",
       "      <td>090120092</td>\n",
       "      <td>RAYTHEON TECHNICAL SERVICES CORP</td>\n",
       "      <td>COMPUTER SYSTEMS ENGINEER</td>\n",
       "      <td>100.0</td>\n",
       "      <td>07-MAR-12</td>\n",
       "      <td>NaN</td>\n",
       "      <td>NaN</td>\n",
       "      <td>NaN</td>\n",
       "      <td>SA17A</td>\n",
       "      <td>780128</td>\n",
       "      <td>Republican</td>\n",
       "    </tr>\n",
       "  </tbody>\n",
       "</table>\n",
       "</div>"
      ],
      "text/plain": [
       "       cmte_id    cand_id       cand_nm           contbr_nm contbr_city  \\\n",
       "411  C00431171  P80003353  Romney, Mitt  ELDERBAUM, WILLIAM         DPO   \n",
       "412  C00431171  P80003353  Romney, Mitt  ELDERBAUM, WILLIAM         DPO   \n",
       "413  C00431171  P80003353  Romney, Mitt    CARLSEN, RICHARD         APO   \n",
       "414  C00431171  P80003353  Romney, Mitt      DELUCA, PIERRE         APO   \n",
       "415  C00431171  P80003353  Romney, Mitt    SARGENT, MICHAEL         APO   \n",
       "\n",
       "    contbr_st contbr_zip                   contbr_employer  \\\n",
       "411        AA  340230183                     US GOVERNMENT   \n",
       "412        AA  340230183                     US GOVERNMENT   \n",
       "413        AE  091280020       DEFENSE INTELLIGENCE AGENCY   \n",
       "414        AE  091280005                             CISCO   \n",
       "415        AE  090120092  RAYTHEON TECHNICAL SERVICES CORP   \n",
       "\n",
       "             contbr_occupation  contb_receipt_amt contb_receipt_dt  \\\n",
       "411    FOREIGN SERVICE OFFICER               25.0        01-FEB-12   \n",
       "412    FOREIGN SERVICE OFFICER              110.0        01-FEB-12   \n",
       "413       INTELLIGENCE ANALYST              250.0        13-APR-12   \n",
       "414                   ENGINEER               30.0        21-AUG-11   \n",
       "415  COMPUTER SYSTEMS ENGINEER              100.0        07-MAR-12   \n",
       "\n",
       "    receipt_desc memo_cd memo_text form_tp  file_num       party  \n",
       "411          NaN     NaN       NaN   SA17A    780124  Republican  \n",
       "412          NaN     NaN       NaN   SA17A    780124  Republican  \n",
       "413          NaN     NaN       NaN   SA17A    785689  Republican  \n",
       "414          NaN     NaN       NaN   SA17A    760261  Republican  \n",
       "415          NaN     NaN       NaN   SA17A    780128  Republican  "
      ]
     },
     "execution_count": 14,
     "metadata": {},
     "output_type": "execute_result"
    }
   ],
   "source": [
    "fec_obrm.head()"
   ]
  },
  {
   "cell_type": "code",
   "execution_count": 27,
   "metadata": {},
   "outputs": [
    {
     "data": {
      "text/html": [
       "<div>\n",
       "<style scoped>\n",
       "    .dataframe tbody tr th:only-of-type {\n",
       "        vertical-align: middle;\n",
       "    }\n",
       "\n",
       "    .dataframe tbody tr th {\n",
       "        vertical-align: top;\n",
       "    }\n",
       "\n",
       "    .dataframe thead th {\n",
       "        text-align: right;\n",
       "    }\n",
       "</style>\n",
       "<table border=\"1\" class=\"dataframe\">\n",
       "  <thead>\n",
       "    <tr style=\"text-align: right;\">\n",
       "      <th>party</th>\n",
       "      <th>Democrat</th>\n",
       "      <th>Republican</th>\n",
       "    </tr>\n",
       "    <tr>\n",
       "      <th>contbr_occupation</th>\n",
       "      <th></th>\n",
       "      <th></th>\n",
       "    </tr>\n",
       "  </thead>\n",
       "  <tbody>\n",
       "    <tr>\n",
       "      <th>MIXED-MEDIA ARTIST / STORYTELLER</th>\n",
       "      <td>100.0</td>\n",
       "      <td>NaN</td>\n",
       "    </tr>\n",
       "    <tr>\n",
       "      <th>AREA VICE PRESIDENT</th>\n",
       "      <td>250.0</td>\n",
       "      <td>NaN</td>\n",
       "    </tr>\n",
       "    <tr>\n",
       "      <th>RESEARCH ASSOCIATE</th>\n",
       "      <td>100.0</td>\n",
       "      <td>NaN</td>\n",
       "    </tr>\n",
       "    <tr>\n",
       "      <th>TEACHER</th>\n",
       "      <td>500.0</td>\n",
       "      <td>NaN</td>\n",
       "    </tr>\n",
       "    <tr>\n",
       "      <th>THERAPIST</th>\n",
       "      <td>3900.0</td>\n",
       "      <td>NaN</td>\n",
       "    </tr>\n",
       "  </tbody>\n",
       "</table>\n",
       "</div>"
      ],
      "text/plain": [
       "party                                Democrat  Republican\n",
       "contbr_occupation                                        \n",
       "   MIXED-MEDIA ARTIST / STORYTELLER     100.0         NaN\n",
       " AREA VICE PRESIDENT                    250.0         NaN\n",
       " RESEARCH ASSOCIATE                     100.0         NaN\n",
       " TEACHER                                500.0         NaN\n",
       " THERAPIST                             3900.0         NaN"
      ]
     },
     "execution_count": 27,
     "metadata": {},
     "output_type": "execute_result"
    }
   ],
   "source": [
    "por_ocupacion = fec_obrm.pivot_table(\n",
    "    'contb_receipt_amt', index='contbr_occupation', columns='party', aggfunc='sum')\n",
    "por_ocupacion.head()"
   ]
  },
  {
   "cell_type": "code",
   "execution_count": 28,
   "metadata": {},
   "outputs": [
    {
     "data": {
      "text/html": [
       "<div>\n",
       "<style scoped>\n",
       "    .dataframe tbody tr th:only-of-type {\n",
       "        vertical-align: middle;\n",
       "    }\n",
       "\n",
       "    .dataframe tbody tr th {\n",
       "        vertical-align: top;\n",
       "    }\n",
       "\n",
       "    .dataframe thead th {\n",
       "        text-align: right;\n",
       "    }\n",
       "</style>\n",
       "<table border=\"1\" class=\"dataframe\">\n",
       "  <thead>\n",
       "    <tr style=\"text-align: right;\">\n",
       "      <th>party</th>\n",
       "      <th>Democrat</th>\n",
       "      <th>Republican</th>\n",
       "    </tr>\n",
       "    <tr>\n",
       "      <th>contbr_occupation</th>\n",
       "      <th></th>\n",
       "      <th></th>\n",
       "    </tr>\n",
       "  </thead>\n",
       "  <tbody>\n",
       "    <tr>\n",
       "      <th>ATTORNEY</th>\n",
       "      <td>11126932.97</td>\n",
       "      <td>7.343540e+06</td>\n",
       "    </tr>\n",
       "    <tr>\n",
       "      <th>C.E.O.</th>\n",
       "      <td>1690.00</td>\n",
       "      <td>2.431528e+06</td>\n",
       "    </tr>\n",
       "    <tr>\n",
       "      <th>CEO</th>\n",
       "      <td>2069784.79</td>\n",
       "      <td>1.501157e+06</td>\n",
       "    </tr>\n",
       "    <tr>\n",
       "      <th>CONSULTANT</th>\n",
       "      <td>2459812.71</td>\n",
       "      <td>2.472815e+06</td>\n",
       "    </tr>\n",
       "    <tr>\n",
       "      <th>ENGINEER</th>\n",
       "      <td>950425.55</td>\n",
       "      <td>1.780102e+06</td>\n",
       "    </tr>\n",
       "    <tr>\n",
       "      <th>EXECUTIVE</th>\n",
       "      <td>1355161.05</td>\n",
       "      <td>3.918557e+06</td>\n",
       "    </tr>\n",
       "    <tr>\n",
       "      <th>HOMEMAKER</th>\n",
       "      <td>4243394.30</td>\n",
       "      <td>1.324141e+07</td>\n",
       "    </tr>\n",
       "    <tr>\n",
       "      <th>INFORMATION REQUESTED</th>\n",
       "      <td>4849801.96</td>\n",
       "      <td>3.892556e+06</td>\n",
       "    </tr>\n",
       "    <tr>\n",
       "      <th>INFORMATION REQUESTED PER BEST EFFORTS</th>\n",
       "      <td>NaN</td>\n",
       "      <td>1.585951e+07</td>\n",
       "    </tr>\n",
       "    <tr>\n",
       "      <th>INVESTOR</th>\n",
       "      <td>884133.00</td>\n",
       "      <td>2.320349e+06</td>\n",
       "    </tr>\n",
       "    <tr>\n",
       "      <th>LAWYER</th>\n",
       "      <td>3159391.87</td>\n",
       "      <td>3.785903e+05</td>\n",
       "    </tr>\n",
       "    <tr>\n",
       "      <th>MANAGER</th>\n",
       "      <td>762693.22</td>\n",
       "      <td>1.404878e+06</td>\n",
       "    </tr>\n",
       "    <tr>\n",
       "      <th>OWNER</th>\n",
       "      <td>998867.36</td>\n",
       "      <td>2.279621e+06</td>\n",
       "    </tr>\n",
       "    <tr>\n",
       "      <th>PHYSICIAN</th>\n",
       "      <td>3732387.44</td>\n",
       "      <td>3.491657e+06</td>\n",
       "    </tr>\n",
       "    <tr>\n",
       "      <th>PRESIDENT</th>\n",
       "      <td>1878009.95</td>\n",
       "      <td>4.469834e+06</td>\n",
       "    </tr>\n",
       "    <tr>\n",
       "      <th>PROFESSOR</th>\n",
       "      <td>2163571.08</td>\n",
       "      <td>2.944627e+05</td>\n",
       "    </tr>\n",
       "    <tr>\n",
       "      <th>REAL ESTATE</th>\n",
       "      <td>528752.09</td>\n",
       "      <td>1.581747e+06</td>\n",
       "    </tr>\n",
       "    <tr>\n",
       "      <th>RETIRED</th>\n",
       "      <td>25270507.23</td>\n",
       "      <td>2.290594e+07</td>\n",
       "    </tr>\n",
       "    <tr>\n",
       "      <th>SELF-EMPLOYED</th>\n",
       "      <td>667393.40</td>\n",
       "      <td>1.591758e+06</td>\n",
       "    </tr>\n",
       "  </tbody>\n",
       "</table>\n",
       "</div>"
      ],
      "text/plain": [
       "party                                      Democrat    Republican\n",
       "contbr_occupation                                                \n",
       "ATTORNEY                                11126932.97  7.343540e+06\n",
       "C.E.O.                                      1690.00  2.431528e+06\n",
       "CEO                                      2069784.79  1.501157e+06\n",
       "CONSULTANT                               2459812.71  2.472815e+06\n",
       "ENGINEER                                  950425.55  1.780102e+06\n",
       "EXECUTIVE                                1355161.05  3.918557e+06\n",
       "HOMEMAKER                                4243394.30  1.324141e+07\n",
       "INFORMATION REQUESTED                    4849801.96  3.892556e+06\n",
       "INFORMATION REQUESTED PER BEST EFFORTS          NaN  1.585951e+07\n",
       "INVESTOR                                  884133.00  2.320349e+06\n",
       "LAWYER                                   3159391.87  3.785903e+05\n",
       "MANAGER                                   762693.22  1.404878e+06\n",
       "OWNER                                     998867.36  2.279621e+06\n",
       "PHYSICIAN                                3732387.44  3.491657e+06\n",
       "PRESIDENT                                1878009.95  4.469834e+06\n",
       "PROFESSOR                                2163571.08  2.944627e+05\n",
       "REAL ESTATE                               528752.09  1.581747e+06\n",
       "RETIRED                                 25270507.23  2.290594e+07\n",
       "SELF-EMPLOYED                             667393.40  1.591758e+06"
      ]
     },
     "execution_count": 28,
     "metadata": {},
     "output_type": "execute_result"
    }
   ],
   "source": [
    "por_ocupacion = por_ocupacion[por_ocupacion.sum(1) > 2000000]\n",
    "por_ocupacion"
   ]
  },
  {
   "cell_type": "code",
   "execution_count": 1,
   "metadata": {},
   "outputs": [
    {
     "ename": "NameError",
     "evalue": "name 'por_ocupacion' is not defined",
     "output_type": "error",
     "traceback": [
      "\u001b[1;31m---------------------------------------------------------------------------\u001b[0m",
      "\u001b[1;31mNameError\u001b[0m                                 Traceback (most recent call last)",
      "\u001b[1;32m<ipython-input-1-d17a68a357e5>\u001b[0m in \u001b[0;36m<module>\u001b[1;34m\u001b[0m\n\u001b[1;32m----> 1\u001b[1;33m \u001b[0mpor_ocupacion\u001b[0m\u001b[1;33m.\u001b[0m\u001b[0mplot\u001b[0m\u001b[1;33m.\u001b[0m\u001b[0mbarh\u001b[0m\u001b[1;33m(\u001b[0m\u001b[1;33m)\u001b[0m\u001b[1;33m;\u001b[0m\u001b[1;33m\u001b[0m\u001b[1;33m\u001b[0m\u001b[0m\n\u001b[0m",
      "\u001b[1;31mNameError\u001b[0m: name 'por_ocupacion' is not defined"
     ]
    }
   ],
   "source": [
    "por_ocupacion.plot.barh();"
   ]
  },
  {
   "cell_type": "markdown",
   "metadata": {},
   "source": [
    "## Mayor y menor"
   ]
  },
  {
   "cell_type": "code",
   "execution_count": 41,
   "metadata": {},
   "outputs": [],
   "source": [
    "def get_top_amounts(group, key, n=5):\n",
    "    totals = group.groupby(key)['contb_receipt_amt'].sum()\n",
    "    return totals.nlargest(n)"
   ]
  },
  {
   "cell_type": "code",
   "execution_count": 44,
   "metadata": {},
   "outputs": [
    {
     "data": {
      "text/plain": [
       "cand_nm        contbr_occupation                     \n",
       "Obama, Barack  RETIRED                                   25305116.38\n",
       "               ATTORNEY                                  11141982.97\n",
       "               INFORMATION REQUESTED                      4866973.96\n",
       "Romney, Mitt   RETIRED                                   11266949.23\n",
       "               INFORMATION REQUESTED PER BEST EFFORTS    11173374.84\n",
       "               HOMEMAKER                                  8037250.86\n",
       "Name: contb_receipt_amt, dtype: float64"
      ]
     },
     "execution_count": 44,
     "metadata": {},
     "output_type": "execute_result"
    }
   ],
   "source": [
    "agrupado=fec_obrm.groupby('cand_nm')\n",
    "agrupado.apply(get_top_amounts,'contbr_occupation', n=3)"
   ]
  },
  {
   "cell_type": "markdown",
   "metadata": {},
   "source": [
    "# Etiquetado y segmentación"
   ]
  },
  {
   "cell_type": "code",
   "execution_count": 37,
   "metadata": {},
   "outputs": [
    {
     "data": {
      "text/plain": [
       "[0, 1, 10, 100, 1000, 10000, 100000, 1000000, 10000000]"
      ]
     },
     "execution_count": 37,
     "metadata": {},
     "output_type": "execute_result"
    }
   ],
   "source": [
    "cubetas = [0] + [10**x for x in range(8)]\n",
    "cubetas"
   ]
  },
  {
   "cell_type": "code",
   "execution_count": 38,
   "metadata": {},
   "outputs": [
    {
     "data": {
      "text/plain": [
       "411         (10, 100]\n",
       "412       (100, 1000]\n",
       "413       (100, 1000]\n",
       "414         (10, 100]\n",
       "415         (10, 100]\n",
       "             ...     \n",
       "701381      (10, 100]\n",
       "701382    (100, 1000]\n",
       "701383        (1, 10]\n",
       "701384      (10, 100]\n",
       "701385    (100, 1000]\n",
       "Name: contb_receipt_amt, Length: 696356, dtype: category\n",
       "Categories (8, interval[int64]): [(0, 1] < (1, 10] < (10, 100] < (100, 1000] < (1000, 10000] < (10000, 100000] < (100000, 1000000] < (1000000, 10000000]]"
      ]
     },
     "execution_count": 38,
     "metadata": {},
     "output_type": "execute_result"
    }
   ],
   "source": [
    "etiquetas = pd.cut(fec_obrm['contb_receipt_amt'], cubetas)\n",
    "etiquetas"
   ]
  },
  {
   "cell_type": "code",
   "execution_count": 46,
   "metadata": {},
   "outputs": [],
   "source": [
    "agrupado = fec_obrm.groupby(['cand_nm', etiquetas])"
   ]
  },
  {
   "cell_type": "code",
   "execution_count": 49,
   "metadata": {},
   "outputs": [
    {
     "data": {
      "text/html": [
       "<div>\n",
       "<style scoped>\n",
       "    .dataframe tbody tr th:only-of-type {\n",
       "        vertical-align: middle;\n",
       "    }\n",
       "\n",
       "    .dataframe tbody tr th {\n",
       "        vertical-align: top;\n",
       "    }\n",
       "\n",
       "    .dataframe thead th {\n",
       "        text-align: right;\n",
       "    }\n",
       "</style>\n",
       "<table border=\"1\" class=\"dataframe\">\n",
       "  <thead>\n",
       "    <tr style=\"text-align: right;\">\n",
       "      <th>cand_nm</th>\n",
       "      <th>Obama, Barack</th>\n",
       "      <th>Romney, Mitt</th>\n",
       "    </tr>\n",
       "    <tr>\n",
       "      <th>contb_receipt_amt</th>\n",
       "      <th></th>\n",
       "      <th></th>\n",
       "    </tr>\n",
       "  </thead>\n",
       "  <tbody>\n",
       "    <tr>\n",
       "      <th>(0, 1]</th>\n",
       "      <td>493</td>\n",
       "      <td>77</td>\n",
       "    </tr>\n",
       "    <tr>\n",
       "      <th>(1, 10]</th>\n",
       "      <td>40070</td>\n",
       "      <td>3681</td>\n",
       "    </tr>\n",
       "    <tr>\n",
       "      <th>(10, 100]</th>\n",
       "      <td>372280</td>\n",
       "      <td>31853</td>\n",
       "    </tr>\n",
       "    <tr>\n",
       "      <th>(100, 1000]</th>\n",
       "      <td>153991</td>\n",
       "      <td>43357</td>\n",
       "    </tr>\n",
       "    <tr>\n",
       "      <th>(1000, 10000]</th>\n",
       "      <td>22284</td>\n",
       "      <td>26186</td>\n",
       "    </tr>\n",
       "    <tr>\n",
       "      <th>(10000, 100000]</th>\n",
       "      <td>2</td>\n",
       "      <td>1</td>\n",
       "    </tr>\n",
       "    <tr>\n",
       "      <th>(100000, 1000000]</th>\n",
       "      <td>3</td>\n",
       "      <td>0</td>\n",
       "    </tr>\n",
       "    <tr>\n",
       "      <th>(1000000, 10000000]</th>\n",
       "      <td>4</td>\n",
       "      <td>0</td>\n",
       "    </tr>\n",
       "  </tbody>\n",
       "</table>\n",
       "</div>"
      ],
      "text/plain": [
       "cand_nm              Obama, Barack  Romney, Mitt\n",
       "contb_receipt_amt                               \n",
       "(0, 1]                         493            77\n",
       "(1, 10]                      40070          3681\n",
       "(10, 100]                   372280         31853\n",
       "(100, 1000]                 153991         43357\n",
       "(1000, 10000]                22284         26186\n",
       "(10000, 100000]                  2             1\n",
       "(100000, 1000000]                3             0\n",
       "(1000000, 10000000]              4             0"
      ]
     },
     "execution_count": 49,
     "metadata": {},
     "output_type": "execute_result"
    }
   ],
   "source": [
    "agrupado.size().unstack(0)"
   ]
  },
  {
   "cell_type": "code",
   "execution_count": 65,
   "metadata": {},
   "outputs": [
    {
     "data": {
      "text/html": [
       "<div>\n",
       "<style scoped>\n",
       "    .dataframe tbody tr th:only-of-type {\n",
       "        vertical-align: middle;\n",
       "    }\n",
       "\n",
       "    .dataframe tbody tr th {\n",
       "        vertical-align: top;\n",
       "    }\n",
       "\n",
       "    .dataframe thead th {\n",
       "        text-align: right;\n",
       "    }\n",
       "</style>\n",
       "<table border=\"1\" class=\"dataframe\">\n",
       "  <thead>\n",
       "    <tr style=\"text-align: right;\">\n",
       "      <th>cand_nm</th>\n",
       "      <th>Obama, Barack</th>\n",
       "      <th>Romney, Mitt</th>\n",
       "    </tr>\n",
       "    <tr>\n",
       "      <th>contb_receipt_amt</th>\n",
       "      <th></th>\n",
       "      <th></th>\n",
       "    </tr>\n",
       "  </thead>\n",
       "  <tbody>\n",
       "    <tr>\n",
       "      <th>(0, 1]</th>\n",
       "      <td>318.24</td>\n",
       "      <td>77.00</td>\n",
       "    </tr>\n",
       "    <tr>\n",
       "      <th>(1, 10]</th>\n",
       "      <td>337,267.62</td>\n",
       "      <td>29,819.66</td>\n",
       "    </tr>\n",
       "    <tr>\n",
       "      <th>(10, 100]</th>\n",
       "      <td>20,288,981.41</td>\n",
       "      <td>1,987,783.76</td>\n",
       "    </tr>\n",
       "    <tr>\n",
       "      <th>(100, 1000]</th>\n",
       "      <td>54,798,531.46</td>\n",
       "      <td>22,363,381.69</td>\n",
       "    </tr>\n",
       "    <tr>\n",
       "      <th>(1000, 10000]</th>\n",
       "      <td>51,753,705.67</td>\n",
       "      <td>63,942,145.42</td>\n",
       "    </tr>\n",
       "    <tr>\n",
       "      <th>(10000, 100000]</th>\n",
       "      <td>59,100.00</td>\n",
       "      <td>12,700.00</td>\n",
       "    </tr>\n",
       "    <tr>\n",
       "      <th>(100000, 1000000]</th>\n",
       "      <td>1,490,683.08</td>\n",
       "      <td>nan</td>\n",
       "    </tr>\n",
       "    <tr>\n",
       "      <th>(1000000, 10000000]</th>\n",
       "      <td>7,148,839.76</td>\n",
       "      <td>nan</td>\n",
       "    </tr>\n",
       "  </tbody>\n",
       "</table>\n",
       "</div>"
      ],
      "text/plain": [
       "cand_nm              Obama, Barack  Romney, Mitt\n",
       "contb_receipt_amt                               \n",
       "(0, 1]                      318.24         77.00\n",
       "(1, 10]                 337,267.62     29,819.66\n",
       "(10, 100]            20,288,981.41  1,987,783.76\n",
       "(100, 1000]          54,798,531.46 22,363,381.69\n",
       "(1000, 10000]        51,753,705.67 63,942,145.42\n",
       "(10000, 100000]          59,100.00     12,700.00\n",
       "(100000, 1000000]     1,490,683.08           nan\n",
       "(1000000, 10000000]   7,148,839.76           nan"
      ]
     },
     "execution_count": 65,
     "metadata": {},
     "output_type": "execute_result"
    }
   ],
   "source": [
    "agrupado['contb_receipt_amt'].sum().unstack(0)"
   ]
  },
  {
   "cell_type": "markdown",
   "metadata": {},
   "source": [
    "# Estadisticas por estado"
   ]
  },
  {
   "cell_type": "code",
   "execution_count": 69,
   "metadata": {},
   "outputs": [
    {
     "data": {
      "text/plain": [
       "<AxesSubplot:>"
      ]
     },
     "execution_count": 69,
     "metadata": {},
     "output_type": "execute_result"
    },
    {
     "data": {
      "image/png": "[encoded data removed]",
      "text/plain": [
       "<Figure size 432x288 with 1 Axes>"
      ]
     },
     "metadata": {
      "needs_background": "light"
     },
     "output_type": "display_data"
    }
   ],
   "source": [
    "fec_obrm.groupby('contbr_st')['contb_receipt_amt'].sum().sort_values(ascending=False).hist()"
   ]
  },
  {
   "cell_type": "code",
   "execution_count": 78,
   "metadata": {},
   "outputs": [
    {
     "data": {
      "text/html": [
       "<div>\n",
       "<style scoped>\n",
       "    .dataframe tbody tr th:only-of-type {\n",
       "        vertical-align: middle;\n",
       "    }\n",
       "\n",
       "    .dataframe tbody tr th {\n",
       "        vertical-align: top;\n",
       "    }\n",
       "\n",
       "    .dataframe thead th {\n",
       "        text-align: right;\n",
       "    }\n",
       "</style>\n",
       "<table border=\"1\" class=\"dataframe\">\n",
       "  <thead>\n",
       "    <tr style=\"text-align: right;\">\n",
       "      <th>party</th>\n",
       "      <th>Democrat</th>\n",
       "      <th>Republican</th>\n",
       "    </tr>\n",
       "    <tr>\n",
       "      <th>contbr_st</th>\n",
       "      <th></th>\n",
       "      <th></th>\n",
       "    </tr>\n",
       "  </thead>\n",
       "  <tbody>\n",
       "    <tr>\n",
       "      <th>CA</th>\n",
       "      <td>23,824,984.24</td>\n",
       "      <td>10,908,232.46</td>\n",
       "    </tr>\n",
       "    <tr>\n",
       "      <th>IL</th>\n",
       "      <td>16,443,895.84</td>\n",
       "      <td>3,392,056.53</td>\n",
       "    </tr>\n",
       "    <tr>\n",
       "      <th>NY</th>\n",
       "      <td>14,651,918.51</td>\n",
       "      <td>9,800,175.75</td>\n",
       "    </tr>\n",
       "    <tr>\n",
       "      <th>FL</th>\n",
       "      <td>7,318,178.58</td>\n",
       "      <td>8,008,067.40</td>\n",
       "    </tr>\n",
       "    <tr>\n",
       "      <th>MA</th>\n",
       "      <td>6,649,015.25</td>\n",
       "      <td>4,533,351.34</td>\n",
       "    </tr>\n",
       "    <tr>\n",
       "      <th>...</th>\n",
       "      <td>...</td>\n",
       "      <td>...</td>\n",
       "    </tr>\n",
       "    <tr>\n",
       "      <th>FM</th>\n",
       "      <td>600.00</td>\n",
       "      <td>nan</td>\n",
       "    </tr>\n",
       "    <tr>\n",
       "      <th>QU</th>\n",
       "      <td>500.00</td>\n",
       "      <td>nan</td>\n",
       "    </tr>\n",
       "    <tr>\n",
       "      <th>FF</th>\n",
       "      <td>nan</td>\n",
       "      <td>99,030.00</td>\n",
       "    </tr>\n",
       "    <tr>\n",
       "      <th>UK</th>\n",
       "      <td>nan</td>\n",
       "      <td>0.00</td>\n",
       "    </tr>\n",
       "    <tr>\n",
       "      <th>XX</th>\n",
       "      <td>nan</td>\n",
       "      <td>384,250.00</td>\n",
       "    </tr>\n",
       "  </tbody>\n",
       "</table>\n",
       "<p>67 rows × 2 columns</p>\n",
       "</div>"
      ],
      "text/plain": [
       "party          Democrat    Republican\n",
       "contbr_st                            \n",
       "CA        23,824,984.24 10,908,232.46\n",
       "IL        16,443,895.84  3,392,056.53\n",
       "NY        14,651,918.51  9,800,175.75\n",
       "FL         7,318,178.58  8,008,067.40\n",
       "MA         6,649,015.25  4,533,351.34\n",
       "...                 ...           ...\n",
       "FM               600.00           nan\n",
       "QU               500.00           nan\n",
       "FF                  nan     99,030.00\n",
       "UK                  nan          0.00\n",
       "XX                  nan    384,250.00\n",
       "\n",
       "[67 rows x 2 columns]"
      ]
     },
     "execution_count": 78,
     "metadata": {},
     "output_type": "execute_result"
    }
   ],
   "source": [
    "fec_obrm.pivot_table(values='contb_receipt_amt', index='contbr_st',\n",
    "                     columns='party', aggfunc='sum').sort_values(by='Democrat', ascending=False)"
   ]
  }
 ],
 "metadata": {
  "kernelspec": {
   "display_name": "Python 3",
   "language": "python",
   "name": "python3"
  },
  "language_info": {
   "codemirror_mode": {
    "name": "ipython",
    "version": 3
   },
   "file_extension": ".py",
   "mimetype": "text/x-python",
   "name": "python",
   "nbconvert_exporter": "python",
   "pygments_lexer": "ipython3",
   "version": "3.8.5"
  },
  "toc": {
   "base_numbering": 1,
   "nav_menu": {},
   "number_sections": true,
   "sideBar": true,
   "skip_h1_title": true,
   "title_cell": "Índice",
   "title_sidebar": "Contents",
   "toc_cell": false,
   "toc_position": {},
   "toc_section_display": true,
   "toc_window_display": false
  }
 },
 "nbformat": 4,
 "nbformat_minor": 4
}
